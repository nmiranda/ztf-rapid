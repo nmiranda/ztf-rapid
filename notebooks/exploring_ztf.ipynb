{
 "metadata": {
  "language_info": {
   "codemirror_mode": {
    "name": "ipython",
    "version": 3
   },
   "file_extension": ".py",
   "mimetype": "text/x-python",
   "name": "python",
   "nbconvert_exporter": "python",
   "pygments_lexer": "ipython3",
   "version": "3.6.11-final"
  },
  "orig_nbformat": 2,
  "kernelspec": {
   "name": "python3",
   "display_name": "Python 3",
   "language": "python"
  }
 },
 "nbformat": 4,
 "nbformat_minor": 2,
 "cells": [
  {
   "cell_type": "code",
   "execution_count": 3,
   "metadata": {},
   "outputs": [],
   "source": [
    "import pandas as pd\n",
    "from collections import Counter"
   ]
  },
  {
   "cell_type": "code",
   "execution_count": 2,
   "metadata": {},
   "outputs": [],
   "source": [
    "lc_data_path = \"/home/nmiranda/workspace/ztf_rapid/data/raw/rcf_marshallc_sncosmo_200114_2018classupdate_addedcv.pkl\"\n",
    "lc_data = pd.read_pickle(lc_data_path)"
   ]
  },
  {
   "cell_type": "code",
   "execution_count": 4,
   "metadata": {},
   "outputs": [],
   "source": [
    "classes = Counter([val.meta['classification'] for key, val in lc_data.items()])"
   ]
  },
  {
   "cell_type": "code",
   "execution_count": 7,
   "metadata": {},
   "outputs": [
    {
     "output_type": "execute_result",
     "data": {
      "text/plain": [
       "[('SN Ia', 1543), (None, 1498), ('SN II', 355), ('AGN', 235), ('CV', 188)]"
      ]
     },
     "metadata": {},
     "execution_count": 7
    }
   ],
   "source": [
    "classes.most_common()[:5]"
   ]
  },
  {
   "cell_type": "code",
   "execution_count": 11,
   "metadata": {},
   "outputs": [
    {
     "output_type": "execute_result",
     "data": {
      "text/plain": [
       "<Table length=29>\n",
       "       mjd         band        flux             fluxerr          zp   zpsys\n",
       "     float64       str4      float64            float64       float64  str2\n",
       "------------------ ---- ------------------ ------------------ ------- -----\n",
       "58676.182299999986 p48g                0.0 22.752545716468642    25.0    ab\n",
       " 58676.20429999987 p48r                0.0 22.752545716468642    25.0    ab\n",
       " 58683.21290000016 p48r                0.0 24.718948668890214    25.0    ab\n",
       " 58683.24110000022 p48r                0.0 25.646611653120438    25.0    ab\n",
       " 58683.26929999981 p48g                0.0 35.402179166348475    25.0    ab\n",
       "  58684.2313000001 p48r                0.0  26.12341776263681    25.0    ab\n",
       "58684.259300000034 p48g                0.0  40.27448499724783    25.0    ab\n",
       "58688.200800000224 p48g                0.0 13.836619418378755    25.0    ab\n",
       " 58689.18390000006 p48r                0.0  73.28751492956667    25.0    ab\n",
       "  58690.1762000001 p48r                0.0 16.789199730387928    25.0    ab\n",
       "               ...  ...                ...                ...     ...   ...\n",
       " 58705.21769999992 p48g 416.86938347033595  34.55558021175891    25.0    ab\n",
       "58706.189999999944 p48r 401.79081084894085  37.00630126251047    25.0    ab\n",
       " 58706.22039999999 p48g 416.86938347033595  42.23459803659422    25.0    ab\n",
       "58707.188599999994 p48r  373.2501577957206 34.377609971924066    25.0    ab\n",
       "58707.217300000135 p48g 436.51583224016656  56.28643149763746    25.0    ab\n",
       "58708.189999999944 p48r  394.4573020752781   36.3308601432474    25.0    ab\n",
       " 58709.18960000016 p48r  428.5485203974392  35.52369964890474    25.0    ab\n",
       "58716.153500000015 p48g  301.9951720402016  33.37773990220514    25.0    ab\n",
       "58720.159099999815 p48g 246.60393372343412  24.98436783327193    25.0    ab\n",
       " 58726.14470000006 p48r 224.90546058357805 29.000381808871587    25.0    ab"
      ],
      "text/html": "<i>Table length=29</i>\n<table id=\"table140359352728824\" class=\"table-striped table-bordered table-condensed\">\n<thead><tr><th>mjd</th><th>band</th><th>flux</th><th>fluxerr</th><th>zp</th><th>zpsys</th></tr></thead>\n<thead><tr><th>float64</th><th>str4</th><th>float64</th><th>float64</th><th>float64</th><th>str2</th></tr></thead>\n<tr><td>58676.182299999986</td><td>p48g</td><td>0.0</td><td>22.752545716468642</td><td>25.0</td><td>ab</td></tr>\n<tr><td>58676.20429999987</td><td>p48r</td><td>0.0</td><td>22.752545716468642</td><td>25.0</td><td>ab</td></tr>\n<tr><td>58683.21290000016</td><td>p48r</td><td>0.0</td><td>24.718948668890214</td><td>25.0</td><td>ab</td></tr>\n<tr><td>58683.24110000022</td><td>p48r</td><td>0.0</td><td>25.646611653120438</td><td>25.0</td><td>ab</td></tr>\n<tr><td>58683.26929999981</td><td>p48g</td><td>0.0</td><td>35.402179166348475</td><td>25.0</td><td>ab</td></tr>\n<tr><td>58684.2313000001</td><td>p48r</td><td>0.0</td><td>26.12341776263681</td><td>25.0</td><td>ab</td></tr>\n<tr><td>58684.259300000034</td><td>p48g</td><td>0.0</td><td>40.27448499724783</td><td>25.0</td><td>ab</td></tr>\n<tr><td>58688.200800000224</td><td>p48g</td><td>0.0</td><td>13.836619418378755</td><td>25.0</td><td>ab</td></tr>\n<tr><td>58689.18390000006</td><td>p48r</td><td>0.0</td><td>73.28751492956667</td><td>25.0</td><td>ab</td></tr>\n<tr><td>58690.1762000001</td><td>p48r</td><td>0.0</td><td>16.789199730387928</td><td>25.0</td><td>ab</td></tr>\n<tr><td>...</td><td>...</td><td>...</td><td>...</td><td>...</td><td>...</td></tr>\n<tr><td>58705.21769999992</td><td>p48g</td><td>416.86938347033595</td><td>34.55558021175891</td><td>25.0</td><td>ab</td></tr>\n<tr><td>58706.189999999944</td><td>p48r</td><td>401.79081084894085</td><td>37.00630126251047</td><td>25.0</td><td>ab</td></tr>\n<tr><td>58706.22039999999</td><td>p48g</td><td>416.86938347033595</td><td>42.23459803659422</td><td>25.0</td><td>ab</td></tr>\n<tr><td>58707.188599999994</td><td>p48r</td><td>373.2501577957206</td><td>34.377609971924066</td><td>25.0</td><td>ab</td></tr>\n<tr><td>58707.217300000135</td><td>p48g</td><td>436.51583224016656</td><td>56.28643149763746</td><td>25.0</td><td>ab</td></tr>\n<tr><td>58708.189999999944</td><td>p48r</td><td>394.4573020752781</td><td>36.3308601432474</td><td>25.0</td><td>ab</td></tr>\n<tr><td>58709.18960000016</td><td>p48r</td><td>428.5485203974392</td><td>35.52369964890474</td><td>25.0</td><td>ab</td></tr>\n<tr><td>58716.153500000015</td><td>p48g</td><td>301.9951720402016</td><td>33.37773990220514</td><td>25.0</td><td>ab</td></tr>\n<tr><td>58720.159099999815</td><td>p48g</td><td>246.60393372343412</td><td>24.98436783327193</td><td>25.0</td><td>ab</td></tr>\n<tr><td>58726.14470000006</td><td>p48r</td><td>224.90546058357805</td><td>29.000381808871587</td><td>25.0</td><td>ab</td></tr>\n</table>"
     },
     "metadata": {},
     "execution_count": 11
    }
   ],
   "source": [
    "lc_data[list(lc_data.keys())[0]]"
   ]
  }
 ]
}