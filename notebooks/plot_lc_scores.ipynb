{
 "metadata": {
  "language_info": {
   "codemirror_mode": {
    "name": "ipython",
    "version": 3
   },
   "file_extension": ".py",
   "mimetype": "text/x-python",
   "name": "python",
   "nbconvert_exporter": "python",
   "pygments_lexer": "ipython3",
   "version": "3.6.12-final"
  },
  "orig_nbformat": 2,
  "kernelspec": {
   "name": "python3",
   "display_name": "Python 3",
   "language": "python"
  }
 },
 "nbformat": 4,
 "nbformat_minor": 2,
 "cells": [
  {
   "cell_type": "code",
   "execution_count": 1,
   "metadata": {},
   "outputs": [
    {
     "output_type": "stream",
     "name": "stdout",
     "text": [
      "You will need to install 'emcee' if you wish to train your own classifier on new data.\n"
     ]
    }
   ],
   "source": [
    "import numpy as np\n",
    "from tensorflow.keras.models import load_model\n",
    "from ztfrapid import ztf_rapid\n",
    "import matplotlib.pyplot as plt"
   ]
  },
  {
   "cell_type": "code",
   "execution_count": 11,
   "metadata": {},
   "outputs": [
    {
     "output_type": "stream",
     "name": "stdout",
     "text": [
      "['X_train', 'X_test', 'y_train', 'y_test', 'objids_test', 'objids_train', 'orig_lc_test', 'orig_lc_train', 'timesX_test', 'class_names', 'labels_train']\n"
     ]
    }
   ],
   "source": [
    "files = np.load('/home/nmiranda/workspace/ztf_rapid/data/processed/test_none/test_none.npz', allow_pickle=True)\n",
    "print(list(files.keys()))\n",
    "X_test = files['X_test']\n",
    "y_test = files['y_test']\n",
    "orig_lc_test = files['orig_lc_test']\n",
    "timesX_test = files['timesX_test']\n",
    "class_names = files['class_names']\n",
    "objids_test = files['objids_test']"
   ]
  },
  {
   "cell_type": "code",
   "execution_count": 3,
   "metadata": {},
   "outputs": [
    {
     "output_type": "stream",
     "name": "stdout",
     "text": [
      "WARNING:tensorflow:Sequential models without an `input_shape` passed to the first layer cannot reload their optimizer state. As a result, your model isstarting with a freshly initialized optimizer.\n"
     ]
    }
   ],
   "source": [
    "model_filepath = '/home/nmiranda/workspace/ztf_rapid/models/test_none/test_none.hdf5'\n",
    "model = load_model(model_filepath)"
   ]
  },
  {
   "cell_type": "code",
   "execution_count": 4,
   "metadata": {},
   "outputs": [],
   "source": [
    "y_pred = ztf_rapid.predict(model, X_test)"
   ]
  },
  {
   "cell_type": "code",
   "execution_count": 12,
   "metadata": {},
   "outputs": [],
   "source": [
    "idx = 0\n",
    "lightcurve = orig_lc_test[idx]\n",
    "this_timesX = timesX_test[idx]\n",
    "this_X_test = X_test[idx]\n",
    "this_objid = objids_test[idx]"
   ]
  },
  {
   "cell_type": "code",
   "execution_count": 13,
   "metadata": {},
   "outputs": [
    {
     "output_type": "error",
     "ename": "NameError",
     "evalue": "name 'all_class_names' is not defined",
     "traceback": [
      "\u001b[0;31m---------------------------------------------------------------------------\u001b[0m",
      "\u001b[0;31mNameError\u001b[0m                                 Traceback (most recent call last)",
      "\u001b[0;32m<ipython-input-13-44bad5af9bda>\u001b[0m in \u001b[0;36m<module>\u001b[0;34m()\u001b[0m\n\u001b[1;32m     28\u001b[0m              color=ztf_rapid.COLORS[classnum], linewidth=3)\n\u001b[1;32m     29\u001b[0m \u001b[0;34m\u001b[0m\u001b[0m\n\u001b[0;32m---> 30\u001b[0;31m fig.suptitle(\"ID: %s, True class: %s\" % (this_objid.split('_')[1], all_class_names[int(max(y_test_indexes[idx]))]), \n\u001b[0m\u001b[1;32m     31\u001b[0m              fontsize='medium')\n",
      "\u001b[0;31mNameError\u001b[0m: name 'all_class_names' is not defined"
     ]
    }
   ],
   "source": [
    "fig, (ax1, ax2) = plt.subplots(nrows=2, \n",
    "                               ncols=1, \n",
    "                               figsize=(6.0, 4.8),\n",
    "                               dpi=200,\n",
    "                               sharex=True)\n",
    "\n",
    "argmax = this_timesX.argmax() + 1\n",
    "for pbidx, pb in enumerate(ztf_rapid.BANDS.values()):\n",
    "    if pb not in set(lightcurve['passband']):\n",
    "        continue\n",
    "    pbmask = lightcurve['passband'] == pb\n",
    "    ax1.errorbar(lightcurve[pbmask]['time'], \n",
    "                 lightcurve[pbmask]['flux'], \n",
    "                 yerr=lightcurve[pbmask]['fluxErr'], \n",
    "                 fmt='o', \n",
    "                 label=pb, \n",
    "                 lw=2, \n",
    "                 markersize=5, \n",
    "                 alpha=0.8, \n",
    "                 c=ztf_rapid.COLPB[pb],\n",
    "                 capsize=2.0,\n",
    "                 )\n",
    "    ax1.plot(this_timesX[:argmax], this_X_test[:, pbidx][:argmax], lw=3, c=ztf_rapid.COLPB[pb])\n",
    "\n",
    "for classnum, classname in enumerate(class_names):\n",
    "    classnum = classnum+1\n",
    "    ax2.plot(timesX_test[idx][:argmax], y_pred[idx][:, classnum][:argmax], '-', label=classname,\n",
    "             color=ztf_rapid.COLORS[classnum], linewidth=3)\n",
    "\n",
    "fig.suptitle(\"ID: %s, True class: %s\" % (this_objid.split('_')[1], all_class_names[int(max(y_test_indexes[idx]))]), \n",
    "             fontsize='medium')"
   ]
  }
 ]
}