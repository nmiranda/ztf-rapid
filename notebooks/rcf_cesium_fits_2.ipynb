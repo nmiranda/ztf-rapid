{
 "metadata": {
  "language_info": {
   "codemirror_mode": {
    "name": "ipython",
    "version": 3
   },
   "file_extension": ".py",
   "mimetype": "text/x-python",
   "name": "python",
   "nbconvert_exporter": "python",
   "pygments_lexer": "ipython3",
   "version": "3.6.12"
  },
  "orig_nbformat": 2,
  "kernelspec": {
   "name": "python3612jvsc74a57bd0fb1bccc6c1d11f3af6488db0f7eb49bf71f8221f9aeb7a72e777b2fa5f4a84fa",
   "display_name": "Python 3.6.12 64-bit ('ztf_rapid': conda)"
  }
 },
 "nbformat": 4,
 "nbformat_minor": 2,
 "cells": [
  {
   "cell_type": "code",
   "execution_count": 15,
   "metadata": {},
   "outputs": [],
   "source": [
    "import pandas as pd\n",
    "import numpy as np\n",
    "from cesium.features import GENERAL_FEATS\n",
    "from cesium.featurize import featurize_time_series"
   ]
  },
  {
   "cell_type": "code",
   "execution_count": 2,
   "metadata": {},
   "outputs": [
    {
     "output_type": "execute_result",
     "data": {
      "text/plain": [
       "['amplitude',\n",
       " 'flux_percentile_ratio_mid20',\n",
       " 'flux_percentile_ratio_mid35',\n",
       " 'flux_percentile_ratio_mid50',\n",
       " 'flux_percentile_ratio_mid65',\n",
       " 'flux_percentile_ratio_mid80',\n",
       " 'max_slope',\n",
       " 'maximum',\n",
       " 'median',\n",
       " 'median_absolute_deviation',\n",
       " 'minimum',\n",
       " 'percent_amplitude',\n",
       " 'percent_beyond_1_std',\n",
       " 'percent_close_to_median',\n",
       " 'percent_difference_flux_percentile',\n",
       " 'period_fast',\n",
       " 'qso_log_chi2_qsonu',\n",
       " 'qso_log_chi2nuNULL_chi2nu',\n",
       " 'skew',\n",
       " 'std',\n",
       " 'stetson_j',\n",
       " 'stetson_k',\n",
       " 'weighted_average']"
      ]
     },
     "metadata": {},
     "execution_count": 2
    }
   ],
   "source": [
    "GENERAL_FEATS"
   ]
  },
  {
   "cell_type": "code",
   "execution_count": 8,
   "metadata": {},
   "outputs": [],
   "source": [
    "lc_data = pd.read_pickle('/home/nmiranda/workspace/ztf_rapid/data/interim/rcf_marshallc_sncosmo_200114_2018classupdate_addedcv_nozeroes.pkl')"
   ]
  },
  {
   "cell_type": "code",
   "execution_count": 22,
   "metadata": {},
   "outputs": [],
   "source": [
    "ztfid_list = list()\n",
    "times_list = list()\n",
    "values_list = list()\n",
    "for ztfid, lc in lc_data.items():\n",
    "    ztfid_list.append(ztfid)\n",
    "    times_list.append(lc['mjd'])\n",
    "    values_list.append(lc['flux'])"
   ]
  },
  {
   "cell_type": "code",
   "execution_count": 23,
   "metadata": {},
   "outputs": [
    {
     "output_type": "stream",
     "name": "stderr",
     "text": [
      "/home/nmiranda/miniconda3/envs/ztf_rapid/lib/python3.6/site-packages/cesium/features/cadence_features.py:12: RuntimeWarning: divide by zero encountered in true_divide\n",
      "  return (cads[2:] + cads[:-2]) / (cads[1:-1] - cads[:-2])\n",
      "/home/nmiranda/miniconda3/envs/ztf_rapid/lib/python3.6/site-packages/numpy/core/_methods.py:202: RuntimeWarning: invalid value encountered in subtract\n",
      "  x = asanyarray(arr - arrmean)\n",
      "/home/nmiranda/miniconda3/envs/ztf_rapid/lib/python3.6/site-packages/cesium/features/cadence_features.py:12: RuntimeWarning: divide by zero encountered in true_divide\n",
      "  return (cads[2:] + cads[:-2]) / (cads[1:-1] - cads[:-2])\n",
      "/home/nmiranda/miniconda3/envs/ztf_rapid/lib/python3.6/site-packages/numpy/core/_methods.py:202: RuntimeWarning: invalid value encountered in subtract\n",
      "  x = asanyarray(arr - arrmean)\n"
     ]
    }
   ],
   "source": [
    "features = featurize_time_series(times=times_list[:10], values=values_list[:10], features_to_use=GENERAL_FEATS)"
   ]
  },
  {
   "cell_type": "code",
   "execution_count": 24,
   "metadata": {},
   "outputs": [
    {
     "output_type": "execute_result",
     "data": {
      "text/plain": [
       "feature   amplitude flux_percentile_ratio_mid20 flux_percentile_ratio_mid35  \\\n",
       "channel           0                           0                           0   \n",
       "0        184.297734               2.065462e-113                2.214384e-94   \n",
       "1        152.530687                2.735560e-58                2.216887e-20   \n",
       "2        147.340534                3.311668e-60                3.436773e-23   \n",
       "3        139.558749                1.742612e-65                1.574425e-61   \n",
       "4        129.662607                8.636436e-66                1.126578e-60   \n",
       "5        993.644632                9.406274e-94                3.885603e-82   \n",
       "6        300.579717               6.701883e-131               8.387856e-125   \n",
       "7        136.340687                4.161863e-69                3.040694e-68   \n",
       "8        566.451788               2.766861e-123                4.240670e-77   \n",
       "9         98.907450                2.147590e-34                1.155246e-17   \n",
       "\n",
       "feature flux_percentile_ratio_mid50 flux_percentile_ratio_mid65  \\\n",
       "channel                           0                           0   \n",
       "0                      1.867666e-72                2.677995e-64   \n",
       "1                      2.216887e-19                4.212086e-19   \n",
       "2                      2.909072e-15                5.200060e-11   \n",
       "3                      5.623063e-38                5.087404e-29   \n",
       "4                      4.987953e-60                3.753673e-20   \n",
       "5                      8.108991e-66                3.239301e-32   \n",
       "6                      2.363200e-83                5.835887e-57   \n",
       "7                      9.612278e-39                8.095189e-15   \n",
       "8                      1.541624e-33                8.194315e-19   \n",
       "9                      4.395881e-11                1.005845e-06   \n",
       "\n",
       "feature flux_percentile_ratio_mid80     max_slope      maximum      median  \\\n",
       "channel                           0             0            0           0   \n",
       "0                      3.213594e-63  2.348218e+03   436.515832  383.853730   \n",
       "1                      5.714286e-01  1.126397e+03   366.437575  231.206479   \n",
       "2                      8.189576e-07  5.609882e+03   534.564359  457.088190   \n",
       "3                      5.180928e-02  4.217583e+03   452.897580  359.886673   \n",
       "4                      1.981281e-04  9.976359e+03   363.078055  280.590962   \n",
       "5                      1.624449e-14  3.100857e+06  2108.628150  483.058802   \n",
       "6                      2.240323e-34  1.090082e+05   765.596607  549.540874   \n",
       "7                      3.238075e-14  3.444199e+03   366.437575  293.764965   \n",
       "8                      1.642344e-02  8.154365e+04  1318.256739  642.687717   \n",
       "9                      1.470622e-05  4.856097e+03   319.153786  226.482860   \n",
       "\n",
       "feature median_absolute_deviation  ... percent_close_to_median  \\\n",
       "channel                         0  ...                       0   \n",
       "0                       39.301677  ...                0.500000   \n",
       "1                       87.947306  ...                0.285714   \n",
       "2                       39.504132  ...                0.368421   \n",
       "3                       38.220497  ...                0.300000   \n",
       "4                       35.787217  ...                0.375000   \n",
       "5                       97.705615  ...                0.717391   \n",
       "6                      111.152574  ...                0.333333   \n",
       "7                       28.341914  ...                0.363636   \n",
       "8                      374.770885  ...                0.066667   \n",
       "9                       60.598242  ...                0.187500   \n",
       "\n",
       "feature percent_difference_flux_percentile period_fast qso_log_chi2_qsonu  \\\n",
       "channel                                  0           0                  0   \n",
       "0                            1.219440e+122   26.680301          19.709226   \n",
       "1                             5.987003e+67    3.146524          18.679125   \n",
       "2                             7.620100e+85   11.965438          21.521097   \n",
       "3                             5.758785e+69    3.612659          20.058317   \n",
       "4                             2.328513e+68   52.500500          20.360909   \n",
       "5                            3.179434e+119    0.997251          28.088999   \n",
       "6                            1.584823e+143    9.966194          22.310907   \n",
       "7                             5.040525e+79   38.740500          19.769193   \n",
       "8                            2.626306e+182    5.832958          23.003706   \n",
       "9                             3.225156e+35   53.793000          21.486614   \n",
       "\n",
       "feature qso_log_chi2nuNULL_chi2nu      skew         std    stetson_j  \\\n",
       "channel                         0         0           0            0   \n",
       "0                        2.019745 -1.330341  105.817834   809.758000   \n",
       "1                        3.017721 -0.292960  102.723807   925.453801   \n",
       "2                       -0.646393 -0.424577  100.609032   881.144371   \n",
       "3                        1.627807 -0.794298   78.426468   638.225590   \n",
       "4                        2.602746 -0.930389   77.065193   585.525125   \n",
       "5                       -0.249551  2.697999  329.991873  1882.988432   \n",
       "6                        3.426266 -0.662572  158.910142  1274.090797   \n",
       "7                        1.271188 -0.845908   81.775316   641.107668   \n",
       "8                        4.530542  0.347177  384.490185  3392.570677   \n",
       "9                       -0.604595 -0.068563   64.898867   597.579249   \n",
       "\n",
       "feature stetson_k weighted_average  \n",
       "channel         0                0  \n",
       "0        0.811078       338.305957  \n",
       "1        1.043840       225.619990  \n",
       "2        0.931203       400.531997  \n",
       "3        0.919281       337.567474  \n",
       "4        0.893784       266.260676  \n",
       "5        0.710903       511.364530  \n",
       "6        0.975403       522.516630  \n",
       "7        0.860880       258.627861  \n",
       "8        1.065187       671.805042  \n",
       "9        1.059897       220.456753  \n",
       "\n",
       "[10 rows x 23 columns]"
      ],
      "text/html": "<div>\n<style scoped>\n    .dataframe tbody tr th:only-of-type {\n        vertical-align: middle;\n    }\n\n    .dataframe tbody tr th {\n        vertical-align: top;\n    }\n\n    .dataframe thead tr th {\n        text-align: left;\n    }\n</style>\n<table border=\"1\" class=\"dataframe\">\n  <thead>\n    <tr>\n      <th>feature</th>\n      <th>amplitude</th>\n      <th>flux_percentile_ratio_mid20</th>\n      <th>flux_percentile_ratio_mid35</th>\n      <th>flux_percentile_ratio_mid50</th>\n      <th>flux_percentile_ratio_mid65</th>\n      <th>flux_percentile_ratio_mid80</th>\n      <th>max_slope</th>\n      <th>maximum</th>\n      <th>median</th>\n      <th>median_absolute_deviation</th>\n      <th>...</th>\n      <th>percent_close_to_median</th>\n      <th>percent_difference_flux_percentile</th>\n      <th>period_fast</th>\n      <th>qso_log_chi2_qsonu</th>\n      <th>qso_log_chi2nuNULL_chi2nu</th>\n      <th>skew</th>\n      <th>std</th>\n      <th>stetson_j</th>\n      <th>stetson_k</th>\n      <th>weighted_average</th>\n    </tr>\n    <tr>\n      <th>channel</th>\n      <th>0</th>\n      <th>0</th>\n      <th>0</th>\n      <th>0</th>\n      <th>0</th>\n      <th>0</th>\n      <th>0</th>\n      <th>0</th>\n      <th>0</th>\n      <th>0</th>\n      <th>...</th>\n      <th>0</th>\n      <th>0</th>\n      <th>0</th>\n      <th>0</th>\n      <th>0</th>\n      <th>0</th>\n      <th>0</th>\n      <th>0</th>\n      <th>0</th>\n      <th>0</th>\n    </tr>\n  </thead>\n  <tbody>\n    <tr>\n      <th>0</th>\n      <td>184.297734</td>\n      <td>2.065462e-113</td>\n      <td>2.214384e-94</td>\n      <td>1.867666e-72</td>\n      <td>2.677995e-64</td>\n      <td>3.213594e-63</td>\n      <td>2.348218e+03</td>\n      <td>436.515832</td>\n      <td>383.853730</td>\n      <td>39.301677</td>\n      <td>...</td>\n      <td>0.500000</td>\n      <td>1.219440e+122</td>\n      <td>26.680301</td>\n      <td>19.709226</td>\n      <td>2.019745</td>\n      <td>-1.330341</td>\n      <td>105.817834</td>\n      <td>809.758000</td>\n      <td>0.811078</td>\n      <td>338.305957</td>\n    </tr>\n    <tr>\n      <th>1</th>\n      <td>152.530687</td>\n      <td>2.735560e-58</td>\n      <td>2.216887e-20</td>\n      <td>2.216887e-19</td>\n      <td>4.212086e-19</td>\n      <td>5.714286e-01</td>\n      <td>1.126397e+03</td>\n      <td>366.437575</td>\n      <td>231.206479</td>\n      <td>87.947306</td>\n      <td>...</td>\n      <td>0.285714</td>\n      <td>5.987003e+67</td>\n      <td>3.146524</td>\n      <td>18.679125</td>\n      <td>3.017721</td>\n      <td>-0.292960</td>\n      <td>102.723807</td>\n      <td>925.453801</td>\n      <td>1.043840</td>\n      <td>225.619990</td>\n    </tr>\n    <tr>\n      <th>2</th>\n      <td>147.340534</td>\n      <td>3.311668e-60</td>\n      <td>3.436773e-23</td>\n      <td>2.909072e-15</td>\n      <td>5.200060e-11</td>\n      <td>8.189576e-07</td>\n      <td>5.609882e+03</td>\n      <td>534.564359</td>\n      <td>457.088190</td>\n      <td>39.504132</td>\n      <td>...</td>\n      <td>0.368421</td>\n      <td>7.620100e+85</td>\n      <td>11.965438</td>\n      <td>21.521097</td>\n      <td>-0.646393</td>\n      <td>-0.424577</td>\n      <td>100.609032</td>\n      <td>881.144371</td>\n      <td>0.931203</td>\n      <td>400.531997</td>\n    </tr>\n    <tr>\n      <th>3</th>\n      <td>139.558749</td>\n      <td>1.742612e-65</td>\n      <td>1.574425e-61</td>\n      <td>5.623063e-38</td>\n      <td>5.087404e-29</td>\n      <td>5.180928e-02</td>\n      <td>4.217583e+03</td>\n      <td>452.897580</td>\n      <td>359.886673</td>\n      <td>38.220497</td>\n      <td>...</td>\n      <td>0.300000</td>\n      <td>5.758785e+69</td>\n      <td>3.612659</td>\n      <td>20.058317</td>\n      <td>1.627807</td>\n      <td>-0.794298</td>\n      <td>78.426468</td>\n      <td>638.225590</td>\n      <td>0.919281</td>\n      <td>337.567474</td>\n    </tr>\n    <tr>\n      <th>4</th>\n      <td>129.662607</td>\n      <td>8.636436e-66</td>\n      <td>1.126578e-60</td>\n      <td>4.987953e-60</td>\n      <td>3.753673e-20</td>\n      <td>1.981281e-04</td>\n      <td>9.976359e+03</td>\n      <td>363.078055</td>\n      <td>280.590962</td>\n      <td>35.787217</td>\n      <td>...</td>\n      <td>0.375000</td>\n      <td>2.328513e+68</td>\n      <td>52.500500</td>\n      <td>20.360909</td>\n      <td>2.602746</td>\n      <td>-0.930389</td>\n      <td>77.065193</td>\n      <td>585.525125</td>\n      <td>0.893784</td>\n      <td>266.260676</td>\n    </tr>\n    <tr>\n      <th>5</th>\n      <td>993.644632</td>\n      <td>9.406274e-94</td>\n      <td>3.885603e-82</td>\n      <td>8.108991e-66</td>\n      <td>3.239301e-32</td>\n      <td>1.624449e-14</td>\n      <td>3.100857e+06</td>\n      <td>2108.628150</td>\n      <td>483.058802</td>\n      <td>97.705615</td>\n      <td>...</td>\n      <td>0.717391</td>\n      <td>3.179434e+119</td>\n      <td>0.997251</td>\n      <td>28.088999</td>\n      <td>-0.249551</td>\n      <td>2.697999</td>\n      <td>329.991873</td>\n      <td>1882.988432</td>\n      <td>0.710903</td>\n      <td>511.364530</td>\n    </tr>\n    <tr>\n      <th>6</th>\n      <td>300.579717</td>\n      <td>6.701883e-131</td>\n      <td>8.387856e-125</td>\n      <td>2.363200e-83</td>\n      <td>5.835887e-57</td>\n      <td>2.240323e-34</td>\n      <td>1.090082e+05</td>\n      <td>765.596607</td>\n      <td>549.540874</td>\n      <td>111.152574</td>\n      <td>...</td>\n      <td>0.333333</td>\n      <td>1.584823e+143</td>\n      <td>9.966194</td>\n      <td>22.310907</td>\n      <td>3.426266</td>\n      <td>-0.662572</td>\n      <td>158.910142</td>\n      <td>1274.090797</td>\n      <td>0.975403</td>\n      <td>522.516630</td>\n    </tr>\n    <tr>\n      <th>7</th>\n      <td>136.340687</td>\n      <td>4.161863e-69</td>\n      <td>3.040694e-68</td>\n      <td>9.612278e-39</td>\n      <td>8.095189e-15</td>\n      <td>3.238075e-14</td>\n      <td>3.444199e+03</td>\n      <td>366.437575</td>\n      <td>293.764965</td>\n      <td>28.341914</td>\n      <td>...</td>\n      <td>0.363636</td>\n      <td>5.040525e+79</td>\n      <td>38.740500</td>\n      <td>19.769193</td>\n      <td>1.271188</td>\n      <td>-0.845908</td>\n      <td>81.775316</td>\n      <td>641.107668</td>\n      <td>0.860880</td>\n      <td>258.627861</td>\n    </tr>\n    <tr>\n      <th>8</th>\n      <td>566.451788</td>\n      <td>2.766861e-123</td>\n      <td>4.240670e-77</td>\n      <td>1.541624e-33</td>\n      <td>8.194315e-19</td>\n      <td>1.642344e-02</td>\n      <td>8.154365e+04</td>\n      <td>1318.256739</td>\n      <td>642.687717</td>\n      <td>374.770885</td>\n      <td>...</td>\n      <td>0.066667</td>\n      <td>2.626306e+182</td>\n      <td>5.832958</td>\n      <td>23.003706</td>\n      <td>4.530542</td>\n      <td>0.347177</td>\n      <td>384.490185</td>\n      <td>3392.570677</td>\n      <td>1.065187</td>\n      <td>671.805042</td>\n    </tr>\n    <tr>\n      <th>9</th>\n      <td>98.907450</td>\n      <td>2.147590e-34</td>\n      <td>1.155246e-17</td>\n      <td>4.395881e-11</td>\n      <td>1.005845e-06</td>\n      <td>1.470622e-05</td>\n      <td>4.856097e+03</td>\n      <td>319.153786</td>\n      <td>226.482860</td>\n      <td>60.598242</td>\n      <td>...</td>\n      <td>0.187500</td>\n      <td>3.225156e+35</td>\n      <td>53.793000</td>\n      <td>21.486614</td>\n      <td>-0.604595</td>\n      <td>-0.068563</td>\n      <td>64.898867</td>\n      <td>597.579249</td>\n      <td>1.059897</td>\n      <td>220.456753</td>\n    </tr>\n  </tbody>\n</table>\n<p>10 rows × 23 columns</p>\n</div>"
     },
     "metadata": {},
     "execution_count": 24
    }
   ],
   "source": [
    "features"
   ]
  },
  {
   "cell_type": "code",
   "execution_count": null,
   "metadata": {},
   "outputs": [],
   "source": []
  }
 ]
}