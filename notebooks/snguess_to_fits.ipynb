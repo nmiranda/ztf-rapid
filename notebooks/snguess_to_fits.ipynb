{
 "metadata": {
  "language_info": {
   "codemirror_mode": {
    "name": "ipython",
    "version": 3
   },
   "file_extension": ".py",
   "mimetype": "text/x-python",
   "name": "python",
   "nbconvert_exporter": "python",
   "pygments_lexer": "ipython3",
   "version": "3.6.12-final"
  },
  "orig_nbformat": 2,
  "kernelspec": {
   "name": "python3",
   "display_name": "Python 3.6.12 64-bit ('ztf_rapid': conda)",
   "metadata": {
    "interpreter": {
     "hash": "fb1bccc6c1d11f3af6488db0f7eb49bf71f8221f9aeb7a72e777b2fa5f4a84fa"
    }
   }
  }
 },
 "nbformat": 4,
 "nbformat_minor": 2,
 "cells": [
  {
   "cell_type": "code",
   "execution_count": 14,
   "metadata": {},
   "outputs": [],
   "source": [
    "import pandas as pd\n",
    "from astropy.table import Table\n",
    "from astropy.io import fits as pf"
   ]
  },
  {
   "cell_type": "code",
   "execution_count": 2,
   "metadata": {},
   "outputs": [],
   "source": [
    "features = pd.read_csv('/home/nmiranda/workspace/ztf_rapid/data/raw/snguess_features.csv')"
   ]
  },
  {
   "cell_type": "code",
   "execution_count": 3,
   "metadata": {},
   "outputs": [
    {
     "output_type": "execute_result",
     "data": {
      "text/plain": [
       "        Unnamed: 0   index  cut_pp        jd_det       jd_last  ndet  \\\n",
       "0               53      53       0  2.458306e+06  2.458368e+06     5   \n",
       "1               54      54       0  2.458306e+06  2.458368e+06     5   \n",
       "2               56      56       0  2.458306e+06  2.458368e+06     5   \n",
       "3               57      57       0  2.458306e+06  2.458347e+06     4   \n",
       "4               60      60       0  2.458306e+06  2.458331e+06     2   \n",
       "...            ...     ...     ...           ...           ...   ...   \n",
       "172178      250320  261412       0  2.458663e+06  2.458668e+06     2   \n",
       "172179      250321  261413       0  2.458668e+06  2.458671e+06     3   \n",
       "172180      250322  261414       0  2.458668e+06  2.458668e+06     2   \n",
       "172181      250323  261415       0  2.458668e+06  2.458674e+06     4   \n",
       "172182      250324  261416       0  2.458668e+06  2.458678e+06     5   \n",
       "\n",
       "          mag_det   mag_last       t_lc    rb_med  ...        snname  \\\n",
       "0       17.778700  18.107468  61.914803  0.390000  ...  ZTF18aaxgghf   \n",
       "1       17.778700  18.107468  61.914803  0.390000  ...  ZTF18aaxgghf   \n",
       "2       17.778700  18.107468  61.914803  0.390000  ...  ZTF18aaxgghf   \n",
       "3       17.778700  18.048302  41.009699  0.385000  ...  ZTF18aaxgghf   \n",
       "4       17.778700  17.923458  24.873912  0.385000  ...  ZTF18aaxgghf   \n",
       "...           ...        ...        ...       ...  ...           ...   \n",
       "172178  17.056499  17.605425   4.979271  0.649286  ...  ZTF19abddmnz   \n",
       "172179  19.795700  19.604424   2.981759  0.897143  ...  ZTF19abddoln   \n",
       "172180  19.795700  19.865593   0.020556  0.903571  ...  ZTF19abddoln   \n",
       "172181  19.795700  19.511892   5.982535  0.903571  ...  ZTF19abddoln   \n",
       "172182  19.795700  19.627052  10.017894  0.897143  ...  ZTF19abddoln   \n",
       "\n",
       "        slope_fall_g  slope_fall_r  rcf_sn  rcf_agn  rcf_cv  class  subclass  \\\n",
       "0           0.005064           NaN   False    False   False    NaN       NaN   \n",
       "1           0.005064           NaN   False    False   False    NaN       NaN   \n",
       "2           0.005064           NaN   False    False   False    NaN       NaN   \n",
       "3           0.007877           NaN   False    False   False    NaN       NaN   \n",
       "4                NaN           NaN   False    False   False    NaN       NaN   \n",
       "...              ...           ...     ...      ...     ...    ...       ...   \n",
       "172178      0.110242           NaN   False    False   False    NaN       NaN   \n",
       "172179           NaN           NaN   False    False   False    NaN       NaN   \n",
       "172180           NaN           NaN   False    False   False    NaN       NaN   \n",
       "172181           NaN           NaN   False    False   False    NaN       NaN   \n",
       "172182           NaN           NaN   False    False   False    NaN       NaN   \n",
       "\n",
       "        snclass  rcf_gone  \n",
       "0           NaN     False  \n",
       "1           NaN     False  \n",
       "2           NaN     False  \n",
       "3           NaN     False  \n",
       "4           NaN     False  \n",
       "...         ...       ...  \n",
       "172178      NaN      True  \n",
       "172179      NaN      True  \n",
       "172180      NaN      True  \n",
       "172181      NaN      True  \n",
       "172182      NaN      True  \n",
       "\n",
       "[172183 rows x 43 columns]"
      ],
      "text/html": "<div>\n<style scoped>\n    .dataframe tbody tr th:only-of-type {\n        vertical-align: middle;\n    }\n\n    .dataframe tbody tr th {\n        vertical-align: top;\n    }\n\n    .dataframe thead th {\n        text-align: right;\n    }\n</style>\n<table border=\"1\" class=\"dataframe\">\n  <thead>\n    <tr style=\"text-align: right;\">\n      <th></th>\n      <th>Unnamed: 0</th>\n      <th>index</th>\n      <th>cut_pp</th>\n      <th>jd_det</th>\n      <th>jd_last</th>\n      <th>ndet</th>\n      <th>mag_det</th>\n      <th>mag_last</th>\n      <th>t_lc</th>\n      <th>rb_med</th>\n      <th>...</th>\n      <th>snname</th>\n      <th>slope_fall_g</th>\n      <th>slope_fall_r</th>\n      <th>rcf_sn</th>\n      <th>rcf_agn</th>\n      <th>rcf_cv</th>\n      <th>class</th>\n      <th>subclass</th>\n      <th>snclass</th>\n      <th>rcf_gone</th>\n    </tr>\n  </thead>\n  <tbody>\n    <tr>\n      <th>0</th>\n      <td>53</td>\n      <td>53</td>\n      <td>0</td>\n      <td>2.458306e+06</td>\n      <td>2.458368e+06</td>\n      <td>5</td>\n      <td>17.778700</td>\n      <td>18.107468</td>\n      <td>61.914803</td>\n      <td>0.390000</td>\n      <td>...</td>\n      <td>ZTF18aaxgghf</td>\n      <td>0.005064</td>\n      <td>NaN</td>\n      <td>False</td>\n      <td>False</td>\n      <td>False</td>\n      <td>NaN</td>\n      <td>NaN</td>\n      <td>NaN</td>\n      <td>False</td>\n    </tr>\n    <tr>\n      <th>1</th>\n      <td>54</td>\n      <td>54</td>\n      <td>0</td>\n      <td>2.458306e+06</td>\n      <td>2.458368e+06</td>\n      <td>5</td>\n      <td>17.778700</td>\n      <td>18.107468</td>\n      <td>61.914803</td>\n      <td>0.390000</td>\n      <td>...</td>\n      <td>ZTF18aaxgghf</td>\n      <td>0.005064</td>\n      <td>NaN</td>\n      <td>False</td>\n      <td>False</td>\n      <td>False</td>\n      <td>NaN</td>\n      <td>NaN</td>\n      <td>NaN</td>\n      <td>False</td>\n    </tr>\n    <tr>\n      <th>2</th>\n      <td>56</td>\n      <td>56</td>\n      <td>0</td>\n      <td>2.458306e+06</td>\n      <td>2.458368e+06</td>\n      <td>5</td>\n      <td>17.778700</td>\n      <td>18.107468</td>\n      <td>61.914803</td>\n      <td>0.390000</td>\n      <td>...</td>\n      <td>ZTF18aaxgghf</td>\n      <td>0.005064</td>\n      <td>NaN</td>\n      <td>False</td>\n      <td>False</td>\n      <td>False</td>\n      <td>NaN</td>\n      <td>NaN</td>\n      <td>NaN</td>\n      <td>False</td>\n    </tr>\n    <tr>\n      <th>3</th>\n      <td>57</td>\n      <td>57</td>\n      <td>0</td>\n      <td>2.458306e+06</td>\n      <td>2.458347e+06</td>\n      <td>4</td>\n      <td>17.778700</td>\n      <td>18.048302</td>\n      <td>41.009699</td>\n      <td>0.385000</td>\n      <td>...</td>\n      <td>ZTF18aaxgghf</td>\n      <td>0.007877</td>\n      <td>NaN</td>\n      <td>False</td>\n      <td>False</td>\n      <td>False</td>\n      <td>NaN</td>\n      <td>NaN</td>\n      <td>NaN</td>\n      <td>False</td>\n    </tr>\n    <tr>\n      <th>4</th>\n      <td>60</td>\n      <td>60</td>\n      <td>0</td>\n      <td>2.458306e+06</td>\n      <td>2.458331e+06</td>\n      <td>2</td>\n      <td>17.778700</td>\n      <td>17.923458</td>\n      <td>24.873912</td>\n      <td>0.385000</td>\n      <td>...</td>\n      <td>ZTF18aaxgghf</td>\n      <td>NaN</td>\n      <td>NaN</td>\n      <td>False</td>\n      <td>False</td>\n      <td>False</td>\n      <td>NaN</td>\n      <td>NaN</td>\n      <td>NaN</td>\n      <td>False</td>\n    </tr>\n    <tr>\n      <th>...</th>\n      <td>...</td>\n      <td>...</td>\n      <td>...</td>\n      <td>...</td>\n      <td>...</td>\n      <td>...</td>\n      <td>...</td>\n      <td>...</td>\n      <td>...</td>\n      <td>...</td>\n      <td>...</td>\n      <td>...</td>\n      <td>...</td>\n      <td>...</td>\n      <td>...</td>\n      <td>...</td>\n      <td>...</td>\n      <td>...</td>\n      <td>...</td>\n      <td>...</td>\n      <td>...</td>\n    </tr>\n    <tr>\n      <th>172178</th>\n      <td>250320</td>\n      <td>261412</td>\n      <td>0</td>\n      <td>2.458663e+06</td>\n      <td>2.458668e+06</td>\n      <td>2</td>\n      <td>17.056499</td>\n      <td>17.605425</td>\n      <td>4.979271</td>\n      <td>0.649286</td>\n      <td>...</td>\n      <td>ZTF19abddmnz</td>\n      <td>0.110242</td>\n      <td>NaN</td>\n      <td>False</td>\n      <td>False</td>\n      <td>False</td>\n      <td>NaN</td>\n      <td>NaN</td>\n      <td>NaN</td>\n      <td>True</td>\n    </tr>\n    <tr>\n      <th>172179</th>\n      <td>250321</td>\n      <td>261413</td>\n      <td>0</td>\n      <td>2.458668e+06</td>\n      <td>2.458671e+06</td>\n      <td>3</td>\n      <td>19.795700</td>\n      <td>19.604424</td>\n      <td>2.981759</td>\n      <td>0.897143</td>\n      <td>...</td>\n      <td>ZTF19abddoln</td>\n      <td>NaN</td>\n      <td>NaN</td>\n      <td>False</td>\n      <td>False</td>\n      <td>False</td>\n      <td>NaN</td>\n      <td>NaN</td>\n      <td>NaN</td>\n      <td>True</td>\n    </tr>\n    <tr>\n      <th>172180</th>\n      <td>250322</td>\n      <td>261414</td>\n      <td>0</td>\n      <td>2.458668e+06</td>\n      <td>2.458668e+06</td>\n      <td>2</td>\n      <td>19.795700</td>\n      <td>19.865593</td>\n      <td>0.020556</td>\n      <td>0.903571</td>\n      <td>...</td>\n      <td>ZTF19abddoln</td>\n      <td>NaN</td>\n      <td>NaN</td>\n      <td>False</td>\n      <td>False</td>\n      <td>False</td>\n      <td>NaN</td>\n      <td>NaN</td>\n      <td>NaN</td>\n      <td>True</td>\n    </tr>\n    <tr>\n      <th>172181</th>\n      <td>250323</td>\n      <td>261415</td>\n      <td>0</td>\n      <td>2.458668e+06</td>\n      <td>2.458674e+06</td>\n      <td>4</td>\n      <td>19.795700</td>\n      <td>19.511892</td>\n      <td>5.982535</td>\n      <td>0.903571</td>\n      <td>...</td>\n      <td>ZTF19abddoln</td>\n      <td>NaN</td>\n      <td>NaN</td>\n      <td>False</td>\n      <td>False</td>\n      <td>False</td>\n      <td>NaN</td>\n      <td>NaN</td>\n      <td>NaN</td>\n      <td>True</td>\n    </tr>\n    <tr>\n      <th>172182</th>\n      <td>250324</td>\n      <td>261416</td>\n      <td>0</td>\n      <td>2.458668e+06</td>\n      <td>2.458678e+06</td>\n      <td>5</td>\n      <td>19.795700</td>\n      <td>19.627052</td>\n      <td>10.017894</td>\n      <td>0.897143</td>\n      <td>...</td>\n      <td>ZTF19abddoln</td>\n      <td>NaN</td>\n      <td>NaN</td>\n      <td>False</td>\n      <td>False</td>\n      <td>False</td>\n      <td>NaN</td>\n      <td>NaN</td>\n      <td>NaN</td>\n      <td>True</td>\n    </tr>\n  </tbody>\n</table>\n<p>172183 rows × 43 columns</p>\n</div>"
     },
     "metadata": {},
     "execution_count": 3
    }
   ],
   "source": [
    "features"
   ]
  },
  {
   "cell_type": "code",
   "execution_count": 6,
   "metadata": {},
   "outputs": [],
   "source": [
    "table = Table.from_pandas(features)"
   ]
  },
  {
   "cell_type": "code",
   "execution_count": 7,
   "metadata": {},
   "outputs": [
    {
     "output_type": "execute_result",
     "data": {
      "text/plain": [
       "<Table length=172183>\n",
       "Unnamed: 0 index  cut_pp       jd_det       ... class subclass snclass rcf_gone\n",
       "  int64    int64  int64       float64       ...  str3  str15     str5    bool  \n",
       "---------- ------ ------ ------------------ ... ----- -------- ------- --------\n",
       "        53     53      0    2458305.8188542 ...    --       --      --    False\n",
       "        54     54      0    2458305.8188542 ...    --       --      --    False\n",
       "        56     56      0    2458305.8188542 ...    --       --      --    False\n",
       "        57     57      0    2458305.8188542 ...    --       --      --    False\n",
       "        60     60      0    2458305.8188542 ...    --       --      --    False\n",
       "        61     61      0    2458305.8188542 ...    --       --      --    False\n",
       "        63     63      0    2458305.8188542 ...    --       --      --    False\n",
       "        65     65      0    2458305.8188542 ...    --       --      --    False\n",
       "        67     67      0    2458305.8188542 ...    --       --      --    False\n",
       "        68     68      0    2458305.8188542 ...    --       --      --    False\n",
       "       ...    ...    ...                ... ...   ...      ...     ...      ...\n",
       "    250311 261403      0    2458641.9295486 ...    --       --      --     True\n",
       "    250314 261406      0    2458666.7032986 ...    --       --      --     True\n",
       "    250317 261409      0 2458647.8094907003 ...    --       --      --     True\n",
       "    250318 261410      0    2458667.6890972 ...    --       --      --     True\n",
       "    250319 261411      0    2458667.6890972 ...    --       --      --     True\n",
       "    250320 261412      0    2458662.7102778 ...    --       --      --     True\n",
       "    250321 261413      0    2458667.6913542 ...    --       --      --     True\n",
       "    250322 261414      0    2458667.6913542 ...    --       --      --     True\n",
       "    250323 261415      0    2458667.6913542 ...    --       --      --     True\n",
       "    250324 261416      0    2458667.6913542 ...    --       --      --     True"
      ],
      "text/html": "<i>Table length=172183</i>\n<table id=\"table140440841816776\" class=\"table-striped table-bordered table-condensed\">\n<thead><tr><th>Unnamed: 0</th><th>index</th><th>cut_pp</th><th>jd_det</th><th>jd_last</th><th>ndet</th><th>mag_det</th><th>mag_last</th><th>t_lc</th><th>rb_med</th><th>drb_med</th><th>distnr_med</th><th>magnr_med</th><th>classtar_med</th><th>sgscore1_med</th><th>distpsnr1_med</th><th>sgscore2_med</th><th>distpsnr2_med</th><th>neargaia_med</th><th>maggaia_med</th><th>bool_pure</th><th>t_predetect</th><th>bool_peaked</th><th>jd_max</th><th>mag_peak</th><th>bool_norise</th><th>bool_rising</th><th>bool_hasgaps</th><th>slope_rise_g</th><th>slope_rise_r</th><th>col_det</th><th>col_last</th><th>col_peak</th><th>snname</th><th>slope_fall_g</th><th>slope_fall_r</th><th>rcf_sn</th><th>rcf_agn</th><th>rcf_cv</th><th>class</th><th>subclass</th><th>snclass</th><th>rcf_gone</th></tr></thead>\n<thead><tr><th>int64</th><th>int64</th><th>int64</th><th>float64</th><th>float64</th><th>int64</th><th>float64</th><th>float64</th><th>float64</th><th>float64</th><th>float64</th><th>float64</th><th>float64</th><th>float64</th><th>float64</th><th>float64</th><th>float64</th><th>float64</th><th>float64</th><th>float64</th><th>bool</th><th>float64</th><th>bool</th><th>float64</th><th>float64</th><th>bool</th><th>bool</th><th>bool</th><th>float64</th><th>float64</th><th>float64</th><th>float64</th><th>float64</th><th>str12</th><th>float64</th><th>float64</th><th>bool</th><th>bool</th><th>bool</th><th>str3</th><th>str15</th><th>str5</th><th>bool</th></tr></thead>\n<tr><td>53</td><td>53</td><td>0</td><td>2458305.8188542</td><td>2458367.7336574</td><td>5</td><td>17.778699874877898</td><td>18.107467651367198</td><td>61.914803199935704</td><td>0.389999985694885</td><td>--</td><td>0.845676600933075</td><td>14.3909997940063</td><td>0.995999991893768</td><td>0.987291991710663</td><td>0.8713499903678895</td><td>0.206166997551918</td><td>13.9559850692749</td><td>0.8636177480220795</td><td>13.788535118103</td><td>False</td><td>3.1028936002403498</td><td>True</td><td>2458305.8188542</td><td>17.778699874877898</td><td>True</td><td>False</td><td>False</td><td>--</td><td>--</td><td>--</td><td>--</td><td>--</td><td>ZTF18aaxgghf</td><td>0.0050637912052681425</td><td>--</td><td>False</td><td>False</td><td>False</td><td>--</td><td>--</td><td>--</td><td>False</td></tr>\n<tr><td>54</td><td>54</td><td>0</td><td>2458305.8188542</td><td>2458367.7336574</td><td>5</td><td>17.778699874877898</td><td>18.107467651367198</td><td>61.914803199935704</td><td>0.389999985694885</td><td>--</td><td>0.845676600933075</td><td>14.3909997940063</td><td>0.995999991893768</td><td>0.987291991710663</td><td>0.8713499903678895</td><td>0.206166997551918</td><td>13.9559850692749</td><td>0.8636177480220795</td><td>13.788535118103</td><td>False</td><td>3.1028936002403498</td><td>True</td><td>2458305.8188542</td><td>17.778699874877898</td><td>True</td><td>False</td><td>False</td><td>--</td><td>--</td><td>--</td><td>--</td><td>--</td><td>ZTF18aaxgghf</td><td>0.0050637912052681425</td><td>--</td><td>False</td><td>False</td><td>False</td><td>--</td><td>--</td><td>--</td><td>False</td></tr>\n<tr><td>56</td><td>56</td><td>0</td><td>2458305.8188542</td><td>2458367.7336574</td><td>5</td><td>17.778699874877898</td><td>18.107467651367198</td><td>61.914803199935704</td><td>0.389999985694885</td><td>--</td><td>0.845676600933075</td><td>14.3909997940063</td><td>0.995999991893768</td><td>0.987291991710663</td><td>0.8713499903678895</td><td>0.206166997551918</td><td>13.9559850692749</td><td>0.8636177480220795</td><td>13.788535118103</td><td>False</td><td>3.1028936002403498</td><td>True</td><td>2458305.8188542</td><td>17.778699874877898</td><td>True</td><td>False</td><td>False</td><td>--</td><td>--</td><td>--</td><td>--</td><td>--</td><td>ZTF18aaxgghf</td><td>0.0050637912052681425</td><td>--</td><td>False</td><td>False</td><td>False</td><td>--</td><td>--</td><td>--</td><td>False</td></tr>\n<tr><td>57</td><td>57</td><td>0</td><td>2458305.8188542</td><td>2458346.8285532</td><td>4</td><td>17.778699874877898</td><td>18.0483016967773</td><td>41.009698999579996</td><td>0.3849999904632565</td><td>--</td><td>0.8706347346305845</td><td>14.3909997940063</td><td>0.9964999854564665</td><td>0.987291991710663</td><td>0.901067852973938</td><td>0.206166997551918</td><td>13.9958810806274</td><td>0.8920230269432071</td><td>13.788535118103</td><td>False</td><td>3.1028936002403498</td><td>True</td><td>2458305.8188542</td><td>17.778699874877898</td><td>True</td><td>False</td><td>False</td><td>--</td><td>--</td><td>--</td><td>--</td><td>--</td><td>ZTF18aaxgghf</td><td>0.007876928136555272</td><td>--</td><td>False</td><td>False</td><td>False</td><td>--</td><td>--</td><td>--</td><td>False</td></tr>\n<tr><td>60</td><td>60</td><td>0</td><td>2458305.8188542</td><td>2458330.6927662003</td><td>2</td><td>17.778699874877898</td><td>17.9234580993652</td><td>24.87391199963168</td><td>0.3849999904632565</td><td>--</td><td>0.7590624094009404</td><td>14.3909997940063</td><td>0.996999979019165</td><td>0.987291991710663</td><td>1.05117464065552</td><td>0.206166997551918</td><td>14.154160499572802</td><td>1.04238951206207</td><td>13.788535118103</td><td>False</td><td>3.1028936002403498</td><td>False</td><td>--</td><td>--</td><td>True</td><td>False</td><td>False</td><td>--</td><td>--</td><td>--</td><td>--</td><td>--</td><td>ZTF18aaxgghf</td><td>--</td><td>--</td><td>False</td><td>False</td><td>False</td><td>--</td><td>--</td><td>--</td><td>False</td></tr>\n<tr><td>61</td><td>61</td><td>0</td><td>2458305.8188542</td><td>2458367.7336574</td><td>5</td><td>17.778699874877898</td><td>18.107467651367198</td><td>61.914803199935704</td><td>0.389999985694885</td><td>--</td><td>0.845676600933075</td><td>14.3909997940063</td><td>0.995999991893768</td><td>0.987291991710663</td><td>0.8713499903678895</td><td>0.206166997551918</td><td>13.9559850692749</td><td>0.8636177480220795</td><td>13.788535118103</td><td>False</td><td>3.1028936002403498</td><td>True</td><td>2458305.8188542</td><td>17.778699874877898</td><td>True</td><td>False</td><td>False</td><td>--</td><td>--</td><td>--</td><td>--</td><td>--</td><td>ZTF18aaxgghf</td><td>0.0050637912052681425</td><td>--</td><td>False</td><td>False</td><td>False</td><td>--</td><td>--</td><td>--</td><td>False</td></tr>\n<tr><td>63</td><td>63</td><td>0</td><td>2458305.8188542</td><td>2458367.7336574</td><td>5</td><td>17.778699874877898</td><td>18.107467651367198</td><td>61.914803199935704</td><td>0.389999985694885</td><td>--</td><td>0.845676600933075</td><td>14.3909997940063</td><td>0.995999991893768</td><td>0.987291991710663</td><td>0.8713499903678895</td><td>0.206166997551918</td><td>13.9559850692749</td><td>0.8636177480220795</td><td>13.788535118103</td><td>False</td><td>3.1028936002403498</td><td>True</td><td>2458305.8188542</td><td>17.778699874877898</td><td>True</td><td>False</td><td>False</td><td>--</td><td>--</td><td>--</td><td>--</td><td>--</td><td>ZTF18aaxgghf</td><td>0.0050637912052681425</td><td>--</td><td>False</td><td>False</td><td>False</td><td>--</td><td>--</td><td>--</td><td>False</td></tr>\n<tr><td>65</td><td>65</td><td>0</td><td>2458305.8188542</td><td>2458346.8285532</td><td>4</td><td>17.778699874877898</td><td>18.0483016967773</td><td>41.009698999579996</td><td>0.3849999904632565</td><td>--</td><td>0.8706347346305845</td><td>14.3909997940063</td><td>0.9964999854564665</td><td>0.987291991710663</td><td>0.901067852973938</td><td>0.206166997551918</td><td>13.9958810806274</td><td>0.8920230269432071</td><td>13.788535118103</td><td>False</td><td>3.1028936002403498</td><td>True</td><td>2458305.8188542</td><td>17.778699874877898</td><td>True</td><td>False</td><td>False</td><td>--</td><td>--</td><td>--</td><td>--</td><td>--</td><td>ZTF18aaxgghf</td><td>0.007876928136555272</td><td>--</td><td>False</td><td>False</td><td>False</td><td>--</td><td>--</td><td>--</td><td>False</td></tr>\n<tr><td>67</td><td>67</td><td>0</td><td>2458305.8188542</td><td>2458367.7336574</td><td>5</td><td>17.778699874877898</td><td>18.107467651367198</td><td>61.914803199935704</td><td>0.389999985694885</td><td>--</td><td>0.845676600933075</td><td>14.3909997940063</td><td>0.995999991893768</td><td>0.987291991710663</td><td>0.8713499903678895</td><td>0.206166997551918</td><td>13.9559850692749</td><td>0.8636177480220795</td><td>13.788535118103</td><td>False</td><td>3.1028936002403498</td><td>True</td><td>2458305.8188542</td><td>17.778699874877898</td><td>True</td><td>False</td><td>False</td><td>--</td><td>--</td><td>--</td><td>--</td><td>--</td><td>ZTF18aaxgghf</td><td>0.0050637912052681425</td><td>--</td><td>False</td><td>False</td><td>False</td><td>--</td><td>--</td><td>--</td><td>False</td></tr>\n<tr><td>68</td><td>68</td><td>0</td><td>2458305.8188542</td><td>2458336.7410764</td><td>3</td><td>17.778699874877898</td><td>18.108362197876</td><td>30.922222199849788</td><td>0.389999985694885</td><td>--</td><td>0.845676600933075</td><td>14.3909997940063</td><td>0.996999979019165</td><td>0.987291991710663</td><td>0.9464033842086804</td><td>0.206166997551918</td><td>14.0351247787476</td><td>0.9388009905815112</td><td>13.788535118103</td><td>False</td><td>3.1028936002403498</td><td>True</td><td>2458305.8188542</td><td>17.778699874877898</td><td>True</td><td>False</td><td>False</td><td>--</td><td>--</td><td>--</td><td>--</td><td>--</td><td>ZTF18aaxgghf</td><td>0.009374936016235777</td><td>--</td><td>False</td><td>False</td><td>False</td><td>--</td><td>--</td><td>--</td><td>False</td></tr>\n<tr><td>...</td><td>...</td><td>...</td><td>...</td><td>...</td><td>...</td><td>...</td><td>...</td><td>...</td><td>...</td><td>...</td><td>...</td><td>...</td><td>...</td><td>...</td><td>...</td><td>...</td><td>...</td><td>...</td><td>...</td><td>...</td><td>...</td><td>...</td><td>...</td><td>...</td><td>...</td><td>...</td><td>...</td><td>...</td><td>...</td><td>...</td><td>...</td><td>...</td><td>...</td><td>...</td><td>...</td><td>...</td><td>...</td><td>...</td><td>...</td><td>...</td><td>...</td><td>...</td></tr>\n<tr><td>250311</td><td>261403</td><td>0</td><td>2458641.9295486</td><td>2458662.9340972</td><td>2</td><td>20.274000167846697</td><td>20.2357006072998</td><td>21.00454859994352</td><td>0.583571523427963</td><td>--</td><td>5.044300079345705</td><td>23.044000625610398</td><td>0.036499998997896896</td><td>--</td><td>--</td><td>--</td><td>--</td><td>--</td><td>--</td><td>False</td><td>0.0009259004145860672</td><td>False</td><td>--</td><td>--</td><td>True</td><td>True</td><td>False</td><td>--</td><td>--</td><td>--</td><td>--</td><td>--</td><td>ZTF19abdcusv</td><td>--</td><td>--</td><td>False</td><td>False</td><td>False</td><td>--</td><td>--</td><td>--</td><td>True</td></tr>\n<tr><td>250314</td><td>261406</td><td>0</td><td>2458666.7032986</td><td>2458672.6793403</td><td>2</td><td>20.1546001434326</td><td>19.9575252532959</td><td>5.9760417002253226</td><td>0.9457145035266876</td><td>0.998643457889557</td><td>0.20884875208139397</td><td>17.9300003051758</td><td>0.784500002861023</td><td>0.0183332990854979</td><td>0.0628974214196205</td><td>0.490851014852524</td><td>9.30478668212891</td><td>20.551723480224602</td><td>16.2701301574707</td><td>False</td><td>0.029016199987381693</td><td>False</td><td>--</td><td>--</td><td>True</td><td>True</td><td>False</td><td>--</td><td>--</td><td>--</td><td>--</td><td>--</td><td>ZTF19abddcfs</td><td>--</td><td>--</td><td>False</td><td>False</td><td>False</td><td>--</td><td>--</td><td>--</td><td>True</td></tr>\n<tr><td>250317</td><td>261409</td><td>0</td><td>2458647.8094907003</td><td>2458666.7705671</td><td>2</td><td>18.3899002075195</td><td>18.4923000335693</td><td>18.961076400242746</td><td>0.3221429884433745</td><td>--</td><td>0.496207997202873</td><td>15.793999671936</td><td>0.99549999833107</td><td>--</td><td>--</td><td>--</td><td>--</td><td>--</td><td>--</td><td>False</td><td>2.9676966997794807</td><td>False</td><td>--</td><td>--</td><td>True</td><td>False</td><td>False</td><td>--</td><td>--</td><td>--</td><td>--</td><td>--</td><td>ZTF19abddinm</td><td>--</td><td>--</td><td>False</td><td>False</td><td>False</td><td>--</td><td>--</td><td>--</td><td>True</td></tr>\n<tr><td>250318</td><td>261410</td><td>0</td><td>2458667.6890972</td><td>2458673.7101505003</td><td>3</td><td>19.2465991973877</td><td>19.8693618774414</td><td>6.0210532997734845</td><td>0.471428573131561</td><td>0.999062478542328</td><td>9.478170394897461</td><td>16.0750007629395</td><td>0.9769999980926508</td><td>0.510119020938873</td><td>5.1625337600708</td><td>0.998749971389771</td><td>9.589207649230957</td><td>9.59319591522217</td><td>16.0169429779053</td><td>True</td><td>4.97927080001682</td><td>True</td><td>2458667.6890972</td><td>19.2465991973877</td><td>True</td><td>False</td><td>False</td><td>--</td><td>--</td><td>--</td><td>--</td><td>--</td><td>ZTF19abddluj</td><td>--</td><td>0.06716769762303901</td><td>False</td><td>False</td><td>False</td><td>--</td><td>--</td><td>--</td><td>True</td></tr>\n<tr><td>250319</td><td>261411</td><td>0</td><td>2458667.6890972</td><td>2458670.7944792</td><td>2</td><td>19.2465991973877</td><td>19.6735229492188</td><td>3.1053820000961423</td><td>0.633571296930313</td><td>0.998373508453369</td><td>9.51383638381958</td><td>16.411000251770044</td><td>0.9830000102519983</td><td>0.510119020938873</td><td>5.152252197265621</td><td>0.998749971389771</td><td>9.69235610961914</td><td>9.69637393951416</td><td>16.0169429779053</td><td>True</td><td>4.97927080001682</td><td>True</td><td>2458667.6890972</td><td>19.2465991973877</td><td>True</td><td>False</td><td>False</td><td>--</td><td>--</td><td>--</td><td>--</td><td>--</td><td>ZTF19abddluj</td><td>--</td><td>--</td><td>False</td><td>False</td><td>False</td><td>--</td><td>--</td><td>--</td><td>True</td></tr>\n<tr><td>250320</td><td>261412</td><td>0</td><td>2458662.7102778</td><td>2458667.6895486</td><td>2</td><td>17.056499481201197</td><td>17.6054248809814</td><td>4.97927080001682</td><td>0.649285554885864</td><td>0.214382141828537</td><td>0.762824341654777</td><td>14.710999965667751</td><td>0.9940000176429752</td><td>0.994957983493805</td><td>1.2472324371337902</td><td>0.300143003463745</td><td>9.73851203918457</td><td>1.2898954153060902</td><td>12.817901611328098</td><td>True</td><td>8.000775500200689</td><td>True</td><td>2458662.7102778</td><td>17.056499481201197</td><td>True</td><td>False</td><td>False</td><td>--</td><td>--</td><td>--</td><td>--</td><td>--</td><td>ZTF19abddmnz</td><td>0.11024212617969198</td><td>--</td><td>False</td><td>False</td><td>False</td><td>--</td><td>--</td><td>--</td><td>True</td></tr>\n<tr><td>250321</td><td>261413</td><td>0</td><td>2458667.6913542</td><td>2458670.6731134</td><td>3</td><td>19.795700073242198</td><td>19.6044235229492</td><td>2.9817592003382742</td><td>0.8971428275108341</td><td>0.9998949468135836</td><td>1.37815952301025</td><td>19.298999786377</td><td>0.976000010967255</td><td>--</td><td>1.5188736319541898</td><td>--</td><td>10.898899078369153</td><td>10.903606891632053</td><td>19.944599151611303</td><td>True</td><td>6.001770899631082</td><td>False</td><td>--</td><td>--</td><td>True</td><td>True</td><td>False</td><td>--</td><td>--</td><td>-0.06989288330079901</td><td>--</td><td>--</td><td>ZTF19abddoln</td><td>--</td><td>--</td><td>False</td><td>False</td><td>False</td><td>--</td><td>--</td><td>--</td><td>True</td></tr>\n<tr><td>250322</td><td>261414</td><td>0</td><td>2458667.6913542</td><td>2458667.7119097</td><td>2</td><td>19.795700073242198</td><td>19.865592956543</td><td>0.0205555004067719</td><td>0.9035714268684388</td><td>0.999869644641876</td><td>1.51305389404297</td><td>19.67449951171875</td><td>0.9745000004768376</td><td>--</td><td>1.4597263336181598</td><td>--</td><td>10.952195167541499</td><td>10.9569177627563</td><td>19.944599151611303</td><td>True</td><td>6.001770899631082</td><td>False</td><td>--</td><td>--</td><td>True</td><td>True</td><td>False</td><td>--</td><td>--</td><td>-0.06989288330079901</td><td>-0.06989288330079901</td><td>--</td><td>ZTF19abddoln</td><td>--</td><td>--</td><td>False</td><td>False</td><td>False</td><td>--</td><td>--</td><td>--</td><td>True</td></tr>\n<tr><td>250323</td><td>261415</td><td>0</td><td>2458667.6913542</td><td>2458673.6738889</td><td>4</td><td>19.795700073242198</td><td>19.511892318725604</td><td>5.982534700073303</td><td>0.9035714268684388</td><td>0.9999202489852907</td><td>1.470891058444975</td><td>19.67449951171875</td><td>0.976000010967255</td><td>--</td><td>1.57111167907715</td><td>--</td><td>10.8456029891968</td><td>10.8502960205078</td><td>19.944599151611303</td><td>True</td><td>6.001770899631082</td><td>False</td><td>--</td><td>--</td><td>False</td><td>True</td><td>False</td><td>-0.04743938292924469</td><td>-0.08819705094689179</td><td>-0.06989288330079901</td><td>--</td><td>--</td><td>ZTF19abddoln</td><td>--</td><td>--</td><td>False</td><td>False</td><td>False</td><td>--</td><td>--</td><td>--</td><td>True</td></tr>\n<tr><td>250324</td><td>261416</td><td>0</td><td>2458667.6913542</td><td>2458677.7092477</td><td>5</td><td>19.795700073242198</td><td>19.6270523071289</td><td>10.017893500160426</td><td>0.8971428275108341</td><td>0.9999168515205386</td><td>1.37815952301025</td><td>19.298999786377</td><td>0.976000010967255</td><td>--</td><td>1.5622726678848249</td><td>--</td><td>10.85359048843385</td><td>10.858291149139399</td><td>19.944599151611303</td><td>True</td><td>6.001770899631082</td><td>False</td><td>--</td><td>--</td><td>True</td><td>False</td><td>False</td><td>--</td><td>--</td><td>-0.06989288330079901</td><td>--</td><td>--</td><td>ZTF19abddoln</td><td>--</td><td>--</td><td>False</td><td>False</td><td>False</td><td>--</td><td>--</td><td>--</td><td>True</td></tr>\n</table>"
     },
     "metadata": {},
     "execution_count": 7
    }
   ],
   "source": [
    "table"
   ]
  },
  {
   "cell_type": "code",
   "execution_count": 10,
   "metadata": {},
   "outputs": [
    {
     "output_type": "execute_result",
     "data": {
      "text/plain": [
       "<TableColumns names=('Unnamed: 0','index','cut_pp','jd_det','jd_last','ndet','mag_det','mag_last','t_lc','rb_med','drb_med','distnr_med','magnr_med','classtar_med','sgscore1_med','distpsnr1_med','sgscore2_med','distpsnr2_med','neargaia_med','maggaia_med','bool_pure','t_predetect','bool_peaked','jd_max','mag_peak','bool_norise','bool_rising','bool_hasgaps','slope_rise_g','slope_rise_r','col_det','col_last','col_peak','snname','slope_fall_g','slope_fall_r','rcf_sn','rcf_agn','rcf_cv','class','subclass','snclass','rcf_gone')>"
      ]
     },
     "metadata": {},
     "execution_count": 10
    }
   ],
   "source": [
    "table.columns"
   ]
  },
  {
   "cell_type": "code",
   "execution_count": 24,
   "metadata": {},
   "outputs": [],
   "source": [
    "coldefs = [\n",
    "    pf.Column(name='snname', format='12A', array=table['snname']),\n",
    "    pf.Column(name='jd_det', format='F', array=table['jd_det']),\n",
    "    pf.Column(name='jd_last', format='F', array=table['jd_last']),\n",
    "    pf.Column(name='jd_max', format='F', array=table['jd_max']),\n",
    "    pf.Column(name='ndet', format='J', array=table['ndet']),\n",
    "    pf.Column(name='mag_det', format='F', array=table['mag_det']),\n",
    "    pf.Column(name='mag_last', format='F', array=table['mag_last']),\n",
    "    pf.Column(name='mag_peak', format='F', array=table['mag_peak']),\n",
    "    pf.Column(name='t_lc', format='F', array=table['t_lc']),\n",
    "    pf.Column(name='rb_med', format='F', array=table['rb_med']),\n",
    "    pf.Column(name='drb_med', format='F', array=table['drb_med']),\n",
    "    pf.Column(name='distnr_med', format='F', array=table['distnr_med']),\n",
    "    pf.Column(name='magnr_med', format='F', array=table['magnr_med']),\n",
    "    pf.Column(name='classtar_med', format='F', array=table['classtar_med']),\n",
    "    pf.Column(name='sgscore1_med', format='F', array=table['sgscore1_med']),\n",
    "    pf.Column(name='sgscore2_med', format='F', array=table['sgscore2_med']),\n",
    "    pf.Column(name='distpsnr2_med', format='F', array=table['distpsnr2_med']),\n",
    "    pf.Column(name='neargaia_med', format='F', array=table['neargaia_med']),\n",
    "    pf.Column(name='maggaia_med', format='F', array=table['maggaia_med']),\n",
    "    pf.Column(name='bool_pure', format='L', array=table['bool_pure']),\n",
    "    pf.Column(name='t_predetect', format='F', array=table['t_predetect']),\n",
    "    pf.Column(name='bool_peaked', format='L', array=table['bool_peaked']),\n",
    "    pf.Column(name='bool_norise', format='L', array=table['bool_norise']),\n",
    "    pf.Column(name='bool_rising', format='L', array=table['bool_rising']),\n",
    "    pf.Column(name='bool_hasgaps', format='L', array=table['bool_hasgaps']),\n",
    "    pf.Column(name='slope_rise_g', format='F', array=table['slope_rise_g']),\n",
    "    pf.Column(name='slope_rise_r', format='F', array=table['slope_rise_r']),\n",
    "    pf.Column(name='col_det', format='F', array=table['col_det']),\n",
    "    pf.Column(name='col_last', format='F', array=table['col_last']),\n",
    "    pf.Column(name='col_peak', format='F', array=table['col_peak']),\n",
    "    pf.Column(name='slope_fall_g', format='F', array=table['slope_fall_g']),\n",
    "    pf.Column(name='slope_fall_r', format='F', array=table['slope_fall_r']),\n",
    "    pf.Column(name='rcf_sn', format='L', array=table['rcf_sn']),\n",
    "    pf.Column(name='rcf_agn', format='L', array=table['rcf_agn']),\n",
    "    pf.Column(name='rcf_cv', format='L', array=table['rcf_cv']),\n",
    "    pf.Column(name='class', format='3A', array=table['class']),\n",
    "    pf.Column(name='subclass', format='15A', array=table['subclass']),\n",
    "    pf.Column(name='snclass', format='5A', array=table['snclass']),\n",
    "    pf.Column(name='rcf_gone', format='L', array=table['rcf_gone']),\n",
    "]"
   ]
  },
  {
   "cell_type": "code",
   "execution_count": 11,
   "metadata": {},
   "outputs": [],
   "source": [
    "# table.write('/home/nmiranda/workspace/ztf_rapid/data/interim/snguess_features.fits', format='fits')"
   ]
  },
  {
   "cell_type": "code",
   "execution_count": 25,
   "metadata": {},
   "outputs": [],
   "source": [
    "tbhdu = pf.BinTableHDU.from_columns(coldefs)\n",
    "tbhdu.writeto('/home/nmiranda/workspace/ztf_rapid/data/interim/snguess_features.fits', checksum=True, overwrite=True)"
   ]
  }
 ]
}