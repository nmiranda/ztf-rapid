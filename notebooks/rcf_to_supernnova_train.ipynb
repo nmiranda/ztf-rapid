{
 "metadata": {
  "language_info": {
   "codemirror_mode": {
    "name": "ipython",
    "version": 3
   },
   "file_extension": ".py",
   "mimetype": "text/x-python",
   "name": "python",
   "nbconvert_exporter": "python",
   "pygments_lexer": "ipython3",
   "version": "3.6.12"
  },
  "orig_nbformat": 2,
  "kernelspec": {
   "name": "python3",
   "display_name": "Python 3.6.12 64-bit ('ztf_rapid': conda)",
   "metadata": {
    "interpreter": {
     "hash": "fb1bccc6c1d11f3af6488db0f7eb49bf71f8221f9aeb7a72e777b2fa5f4a84fa"
    }
   }
  }
 },
 "nbformat": 4,
 "nbformat_minor": 2,
 "cells": [
  {
   "cell_type": "code",
   "execution_count": 1,
   "metadata": {},
   "outputs": [],
   "source": [
    "import pandas as pd"
   ]
  },
  {
   "cell_type": "code",
   "execution_count": 2,
   "metadata": {},
   "outputs": [],
   "source": [
    "lc_data = pd.read_pickle('/home/nmiranda/workspace/ztf_rapid/data/raw/rcf_marshallc_sncosmo_200114_2018classupdate_addedcv.pkl')"
   ]
  },
  {
   "cell_type": "code",
   "execution_count": 3,
   "metadata": {},
   "outputs": [],
   "source": [
    "lc_list = list()\n",
    "idx_ztfid = dict()\n",
    "ztfid_target = dict()\n",
    "for idx, ztfid in enumerate(lc_data):\n",
    "    this_lc = lc_data[ztfid]\n",
    "    idx_ztfid[idx] = ztfid\n",
    "    ztfid_target[ztfid] = this_lc.meta['classification']\n",
    "    this_snn_lc = pd.DataFrame(\n",
    "        {\n",
    "            'FLUXCAL': this_lc['flux'],\n",
    "            'FLUXCALERR': this_lc['fluxerr'],\n",
    "            'FLT': this_lc['band'],\n",
    "            'MJD': this_lc['mjd'],\n",
    "            'SNID': idx,\n",
    "        }\n",
    "    )\n",
    "    lc_list.append(this_snn_lc)\n",
    "lc_df = pd.concat(lc_list)"
   ]
  }
 ]
}