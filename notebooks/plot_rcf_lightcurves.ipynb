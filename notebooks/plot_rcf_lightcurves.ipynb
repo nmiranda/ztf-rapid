{
 "cells": [
  {
   "cell_type": "code",
   "execution_count": 1,
   "metadata": {},
   "outputs": [
    {
     "name": "stdout",
     "output_type": "stream",
     "text": [
      "You will need to install 'emcee' if you wish to train your own classifier on new data.\n"
     ]
    }
   ],
   "source": [
    "import pandas as pd\n",
    "from ztfrapid import ztf_rapid\n",
    "import os\n",
    "import matplotlib.pyplot as plt\n",
    "import gc"
   ]
  },
  {
   "cell_type": "code",
   "execution_count": 2,
   "metadata": {},
   "outputs": [],
   "source": [
    "lc_data = pd.read_pickle('/home/nmiranda/workspace/ztf_rapid/data/raw/rcf_marshallc_sncosmo_200114_2018classupdate_addedcv.pkl')"
   ]
  },
  {
   "cell_type": "code",
   "execution_count": 3,
   "metadata": {},
   "outputs": [],
   "source": [
    "savedir = '/home/nmiranda/workspace/ztf_rapid/reports/figures/rcf_lightcurves'\n",
    "os.makedirs(savedir, exist_ok=True)"
   ]
  },
  {
   "cell_type": "code",
   "execution_count": 4,
   "metadata": {},
   "outputs": [
    {
     "name": "stderr",
     "output_type": "stream",
     "text": [
      "No handles with labels found to put in legend.\n",
      "No handles with labels found to put in legend.\n"
     ]
    },
    {
     "data": {
      "text/plain": [
       "66579"
      ]
     },
     "execution_count": 4,
     "metadata": {},
     "output_type": "execute_result"
    }
   ],
   "source": [
    "fig = plt.figure(figsize=(3.2, 2.4), dpi=200)\n",
    "\n",
    "for ztfid, lc in lc_data.items():\n",
    "    \n",
    "    ax = fig.add_subplot(1, 1, 1)\n",
    "    ax = ztf_rapid.plot_raw_lightcurve(lc, ax=ax)\n",
    "    \n",
    "    fig.tight_layout()\n",
    "    fig.savefig(os.path.join(savedir, ztfid + '.svg'))\n",
    "    fig.clf()\n",
    "    plt.clf()\n",
    "    \n",
    "plt.close(fig)\n",
    "plt.close('all')\n",
    "del fig, ax\n",
    "gc.collect()"
   ]
  },
  {
   "cell_type": "code",
   "execution_count": null,
   "metadata": {},
   "outputs": [],
   "source": []
  }
 ],
 "metadata": {
  "kernelspec": {
   "display_name": "Python 3",
   "language": "python",
   "name": "python3"
  },
  "language_info": {
   "codemirror_mode": {
    "name": "ipython",
    "version": 3
   },
   "file_extension": ".py",
   "mimetype": "text/x-python",
   "name": "python",
   "nbconvert_exporter": "python",
   "pygments_lexer": "ipython3",
   "version": "3.6.12"
  }
 },
 "nbformat": 4,
 "nbformat_minor": 2
}
