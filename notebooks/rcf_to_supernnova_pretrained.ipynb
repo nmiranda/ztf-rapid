{
 "metadata": {
  "language_info": {
   "codemirror_mode": {
    "name": "ipython",
    "version": 3
   },
   "file_extension": ".py",
   "mimetype": "text/x-python",
   "name": "python",
   "nbconvert_exporter": "python",
   "pygments_lexer": "ipython3",
   "version": "3.6.12"
  },
  "orig_nbformat": 2,
  "kernelspec": {
   "name": "python3",
   "display_name": "Python 3.6.12 64-bit ('ztf_rapid': conda)",
   "metadata": {
    "interpreter": {
     "hash": "fb1bccc6c1d11f3af6488db0f7eb49bf71f8221f9aeb7a72e777b2fa5f4a84fa"
    }
   }
  }
 },
 "nbformat": 4,
 "nbformat_minor": 2,
 "cells": [
  {
   "cell_type": "code",
   "execution_count": 1,
   "metadata": {},
   "outputs": [],
   "source": [
    "import pandas as pd"
   ]
  },
  {
   "cell_type": "code",
   "execution_count": 2,
   "metadata": {},
   "outputs": [],
   "source": [
    "lc_data = pd.read_pickle('/home/nmiranda/workspace/ztf_rapid/data/raw/rcf_marshallc_sncosmo_200114_2018classupdate_addedcv.pkl')"
   ]
  },
  {
   "cell_type": "code",
   "execution_count": 3,
   "metadata": {},
   "outputs": [
    {
     "output_type": "execute_result",
     "data": {
      "text/plain": [
       "<Table length=58>\n",
       "       mjd         band        flux             fluxerr          zp   zpsys\n",
       "     float64       str4      float64            float64       float64  str2\n",
       "------------------ ---- ------------------ ------------------ ------- -----\n",
       " 58538.43899999978 p48g                0.0 134.59533125686363    25.0    ab\n",
       "58538.463200000115 p48r                0.0  49.32078674468683    25.0    ab\n",
       "58543.360299999826 p48r                0.0  9.572601846452761    25.0    ab\n",
       " 58547.46519999998 p48r                0.0  9.397882172104307    25.0    ab\n",
       " 58556.42169999983 p48r  346.7368504525324  28.74207970957345    25.0    ab\n",
       " 58558.24099999992 p48r   369.828179780267  40.87492097909591    25.0    ab\n",
       " 58559.35779999988 p48g  457.0881896148747  37.88944025727047    25.0    ab\n",
       " 58560.30200000014 p48i 366.43757464783334  33.75014787587976    25.0    ab\n",
       " 58562.31730000023 p48g 440.55486350655343  52.74958319052326    25.0    ab\n",
       " 58567.29510000022 p48g  549.5408738576253  35.43020947579371    25.0    ab\n",
       "               ...  ...                ...                ...     ...   ...\n",
       " 58616.23430000013 p48g  139.3156802945302  28.22918636265285    25.0    ab\n",
       " 58616.32849999983 p48i  248.8857318282388  32.09251225413052    25.0    ab\n",
       " 58618.22269999981 p48r  260.6153549998895 24.003561257123877    25.0    ab\n",
       " 58619.25359999994 p48g                0.0  48.86861105387938    25.0    ab\n",
       "58628.289599999785 p48r 192.30917289101595 19.483562328774195    25.0    ab\n",
       "58633.190400000196 p48r 155.59656316050751 17.197167689015576    25.0    ab\n",
       "58633.244799999986 p48g  72.44359600749891    14.011833716979    25.0    ab\n",
       " 58635.18280000007 p48i  139.3156802945302 21.813462189322657    25.0    ab\n",
       " 58639.19290000014 p48i 127.05741052085432 19.894113960542597    25.0    ab\n",
       "  58645.2788999998 p48r  124.7383514242942 20.679888133024736    25.0    ab"
      ],
      "text/html": "<i>Table length=58</i>\n<table id=\"table140712327739768\" class=\"table-striped table-bordered table-condensed\">\n<thead><tr><th>mjd</th><th>band</th><th>flux</th><th>fluxerr</th><th>zp</th><th>zpsys</th></tr></thead>\n<thead><tr><th>float64</th><th>str4</th><th>float64</th><th>float64</th><th>float64</th><th>str2</th></tr></thead>\n<tr><td>58538.43899999978</td><td>p48g</td><td>0.0</td><td>134.59533125686363</td><td>25.0</td><td>ab</td></tr>\n<tr><td>58538.463200000115</td><td>p48r</td><td>0.0</td><td>49.32078674468683</td><td>25.0</td><td>ab</td></tr>\n<tr><td>58543.360299999826</td><td>p48r</td><td>0.0</td><td>9.572601846452761</td><td>25.0</td><td>ab</td></tr>\n<tr><td>58547.46519999998</td><td>p48r</td><td>0.0</td><td>9.397882172104307</td><td>25.0</td><td>ab</td></tr>\n<tr><td>58556.42169999983</td><td>p48r</td><td>346.7368504525324</td><td>28.74207970957345</td><td>25.0</td><td>ab</td></tr>\n<tr><td>58558.24099999992</td><td>p48r</td><td>369.828179780267</td><td>40.87492097909591</td><td>25.0</td><td>ab</td></tr>\n<tr><td>58559.35779999988</td><td>p48g</td><td>457.0881896148747</td><td>37.88944025727047</td><td>25.0</td><td>ab</td></tr>\n<tr><td>58560.30200000014</td><td>p48i</td><td>366.43757464783334</td><td>33.75014787587976</td><td>25.0</td><td>ab</td></tr>\n<tr><td>58562.31730000023</td><td>p48g</td><td>440.55486350655343</td><td>52.74958319052326</td><td>25.0</td><td>ab</td></tr>\n<tr><td>58567.29510000022</td><td>p48g</td><td>549.5408738576253</td><td>35.43020947579371</td><td>25.0</td><td>ab</td></tr>\n<tr><td>...</td><td>...</td><td>...</td><td>...</td><td>...</td><td>...</td></tr>\n<tr><td>58616.23430000013</td><td>p48g</td><td>139.3156802945302</td><td>28.22918636265285</td><td>25.0</td><td>ab</td></tr>\n<tr><td>58616.32849999983</td><td>p48i</td><td>248.8857318282388</td><td>32.09251225413052</td><td>25.0</td><td>ab</td></tr>\n<tr><td>58618.22269999981</td><td>p48r</td><td>260.6153549998895</td><td>24.003561257123877</td><td>25.0</td><td>ab</td></tr>\n<tr><td>58619.25359999994</td><td>p48g</td><td>0.0</td><td>48.86861105387938</td><td>25.0</td><td>ab</td></tr>\n<tr><td>58628.289599999785</td><td>p48r</td><td>192.30917289101595</td><td>19.483562328774195</td><td>25.0</td><td>ab</td></tr>\n<tr><td>58633.190400000196</td><td>p48r</td><td>155.59656316050751</td><td>17.197167689015576</td><td>25.0</td><td>ab</td></tr>\n<tr><td>58633.244799999986</td><td>p48g</td><td>72.44359600749891</td><td>14.011833716979</td><td>25.0</td><td>ab</td></tr>\n<tr><td>58635.18280000007</td><td>p48i</td><td>139.3156802945302</td><td>21.813462189322657</td><td>25.0</td><td>ab</td></tr>\n<tr><td>58639.19290000014</td><td>p48i</td><td>127.05741052085432</td><td>19.894113960542597</td><td>25.0</td><td>ab</td></tr>\n<tr><td>58645.2788999998</td><td>p48r</td><td>124.7383514242942</td><td>20.679888133024736</td><td>25.0</td><td>ab</td></tr>\n</table>"
     },
     "metadata": {},
     "execution_count": 3
    }
   ],
   "source": [
    "lc_data['ZTF19aamhgwm']"
   ]
  },
  {
   "cell_type": "code",
   "execution_count": 12,
   "metadata": {},
   "outputs": [],
   "source": [
    "lc_list = list()\n",
    "idx_ztfid = dict()\n",
    "ztfid_target = dict()\n",
    "for idx, ztfid in enumerate(lc_data):\n",
    "    this_lc = lc_data[ztfid]\n",
    "    idx_ztfid[idx] = ztfid\n",
    "    ztfid_target[ztfid] = this_lc.meta['classification']\n",
    "    this_snn_lc = pd.DataFrame(\n",
    "        {\n",
    "            'FLUXCAL': this_lc['flux'],\n",
    "            'FLUXCALERR': this_lc['fluxerr'],\n",
    "            'FLT': this_lc['band'],\n",
    "            'MJD': this_lc['mjd'],\n",
    "            'SNID': idx,\n",
    "        }\n",
    "    )\n",
    "    lc_list.append(this_snn_lc)\n",
    "lc_df = pd.concat(lc_list)"
   ]
  },
  {
   "cell_type": "code",
   "execution_count": 5,
   "metadata": {},
   "outputs": [
    {
     "output_type": "execute_result",
     "data": {
      "text/plain": [
       "       FLUXCAL  FLUXCALERR   FLT         MJD  SNID\n",
       "0     0.000000   22.752546  p48g  58676.1823     0\n",
       "1     0.000000   22.752546  p48r  58676.2043     0\n",
       "2     0.000000   24.718949  p48r  58683.2129     0\n",
       "3     0.000000   25.646612  p48r  58683.2411     0\n",
       "4     0.000000   35.402179  p48g  58683.2693     0\n",
       "..         ...         ...   ...         ...   ...\n",
       "31  216.770410   23.958351  p48r  58476.4446  4577\n",
       "32  175.388050   22.615371  p48r  58480.4494  4577\n",
       "33    0.000000   20.371828  p48g  58480.4947  4577\n",
       "34  139.315680   15.397738  p48r  58481.4406  4577\n",
       "35  124.738351   13.786592  p48r  58486.4616  4577\n",
       "\n",
       "[317114 rows x 5 columns]"
      ],
      "text/html": "<div>\n<style scoped>\n    .dataframe tbody tr th:only-of-type {\n        vertical-align: middle;\n    }\n\n    .dataframe tbody tr th {\n        vertical-align: top;\n    }\n\n    .dataframe thead th {\n        text-align: right;\n    }\n</style>\n<table border=\"1\" class=\"dataframe\">\n  <thead>\n    <tr style=\"text-align: right;\">\n      <th></th>\n      <th>FLUXCAL</th>\n      <th>FLUXCALERR</th>\n      <th>FLT</th>\n      <th>MJD</th>\n      <th>SNID</th>\n    </tr>\n  </thead>\n  <tbody>\n    <tr>\n      <th>0</th>\n      <td>0.000000</td>\n      <td>22.752546</td>\n      <td>p48g</td>\n      <td>58676.1823</td>\n      <td>0</td>\n    </tr>\n    <tr>\n      <th>1</th>\n      <td>0.000000</td>\n      <td>22.752546</td>\n      <td>p48r</td>\n      <td>58676.2043</td>\n      <td>0</td>\n    </tr>\n    <tr>\n      <th>2</th>\n      <td>0.000000</td>\n      <td>24.718949</td>\n      <td>p48r</td>\n      <td>58683.2129</td>\n      <td>0</td>\n    </tr>\n    <tr>\n      <th>3</th>\n      <td>0.000000</td>\n      <td>25.646612</td>\n      <td>p48r</td>\n      <td>58683.2411</td>\n      <td>0</td>\n    </tr>\n    <tr>\n      <th>4</th>\n      <td>0.000000</td>\n      <td>35.402179</td>\n      <td>p48g</td>\n      <td>58683.2693</td>\n      <td>0</td>\n    </tr>\n    <tr>\n      <th>...</th>\n      <td>...</td>\n      <td>...</td>\n      <td>...</td>\n      <td>...</td>\n      <td>...</td>\n    </tr>\n    <tr>\n      <th>31</th>\n      <td>216.770410</td>\n      <td>23.958351</td>\n      <td>p48r</td>\n      <td>58476.4446</td>\n      <td>4577</td>\n    </tr>\n    <tr>\n      <th>32</th>\n      <td>175.388050</td>\n      <td>22.615371</td>\n      <td>p48r</td>\n      <td>58480.4494</td>\n      <td>4577</td>\n    </tr>\n    <tr>\n      <th>33</th>\n      <td>0.000000</td>\n      <td>20.371828</td>\n      <td>p48g</td>\n      <td>58480.4947</td>\n      <td>4577</td>\n    </tr>\n    <tr>\n      <th>34</th>\n      <td>139.315680</td>\n      <td>15.397738</td>\n      <td>p48r</td>\n      <td>58481.4406</td>\n      <td>4577</td>\n    </tr>\n    <tr>\n      <th>35</th>\n      <td>124.738351</td>\n      <td>13.786592</td>\n      <td>p48r</td>\n      <td>58486.4616</td>\n      <td>4577</td>\n    </tr>\n  </tbody>\n</table>\n<p>317114 rows × 5 columns</p>\n</div>"
     },
     "metadata": {},
     "execution_count": 5
    }
   ],
   "source": [
    "lc_df"
   ]
  },
  {
   "cell_type": "code",
   "execution_count": 6,
   "metadata": {},
   "outputs": [],
   "source": [
    "lc_df.to_csv('/home/nmiranda/workspace/ztf_rapid/data/interim/rcf_supernnova.csv', index_label='index')"
   ]
  },
  {
   "cell_type": "code",
   "execution_count": 10,
   "metadata": {},
   "outputs": [
    {
     "output_type": "execute_result",
     "data": {
      "text/plain": [
       "      prob_class0  prob_class1  pred_class\n",
       "SNID                                      \n",
       "3520     0.060046     0.939954           1\n",
       "3138     0.173650     0.826350           1\n",
       "2440     0.240727     0.759273           1\n",
       "1506     0.115462     0.884538           1\n",
       "3927     0.177773     0.822227           1\n",
       "...           ...          ...         ...\n",
       "2333     0.187334     0.812666           1\n",
       "2340     0.098530     0.901470           1\n",
       "2468     0.094872     0.905128           1\n",
       "2324     0.232145     0.767855           1\n",
       "2313     0.641818     0.358182           0\n",
       "\n",
       "[4576 rows x 3 columns]"
      ],
      "text/html": "<div>\n<style scoped>\n    .dataframe tbody tr th:only-of-type {\n        vertical-align: middle;\n    }\n\n    .dataframe tbody tr th {\n        vertical-align: top;\n    }\n\n    .dataframe thead th {\n        text-align: right;\n    }\n</style>\n<table border=\"1\" class=\"dataframe\">\n  <thead>\n    <tr style=\"text-align: right;\">\n      <th></th>\n      <th>prob_class0</th>\n      <th>prob_class1</th>\n      <th>pred_class</th>\n    </tr>\n    <tr>\n      <th>SNID</th>\n      <th></th>\n      <th></th>\n      <th></th>\n    </tr>\n  </thead>\n  <tbody>\n    <tr>\n      <th>3520</th>\n      <td>0.060046</td>\n      <td>0.939954</td>\n      <td>1</td>\n    </tr>\n    <tr>\n      <th>3138</th>\n      <td>0.173650</td>\n      <td>0.826350</td>\n      <td>1</td>\n    </tr>\n    <tr>\n      <th>2440</th>\n      <td>0.240727</td>\n      <td>0.759273</td>\n      <td>1</td>\n    </tr>\n    <tr>\n      <th>1506</th>\n      <td>0.115462</td>\n      <td>0.884538</td>\n      <td>1</td>\n    </tr>\n    <tr>\n      <th>3927</th>\n      <td>0.177773</td>\n      <td>0.822227</td>\n      <td>1</td>\n    </tr>\n    <tr>\n      <th>...</th>\n      <td>...</td>\n      <td>...</td>\n      <td>...</td>\n    </tr>\n    <tr>\n      <th>2333</th>\n      <td>0.187334</td>\n      <td>0.812666</td>\n      <td>1</td>\n    </tr>\n    <tr>\n      <th>2340</th>\n      <td>0.098530</td>\n      <td>0.901470</td>\n      <td>1</td>\n    </tr>\n    <tr>\n      <th>2468</th>\n      <td>0.094872</td>\n      <td>0.905128</td>\n      <td>1</td>\n    </tr>\n    <tr>\n      <th>2324</th>\n      <td>0.232145</td>\n      <td>0.767855</td>\n      <td>1</td>\n    </tr>\n    <tr>\n      <th>2313</th>\n      <td>0.641818</td>\n      <td>0.358182</td>\n      <td>0</td>\n    </tr>\n  </tbody>\n</table>\n<p>4576 rows × 3 columns</p>\n</div>"
     },
     "metadata": {},
     "execution_count": 10
    }
   ],
   "source": [
    "predictions = pd.read_csv('/home/nmiranda/workspace/SuperNNova/Predictions_rcf_supernnova.csv').drop('Unnamed: 0', axis='columns').set_index('SNID')\n",
    "predictions"
   ]
  },
  {
   "cell_type": "code",
   "execution_count": 13,
   "metadata": {},
   "outputs": [],
   "source": [
    "predictions['ztfid'] = predictions.index.map(idx_ztfid)"
   ]
  },
  {
   "cell_type": "code",
   "execution_count": 15,
   "metadata": {},
   "outputs": [],
   "source": [
    "predictions = predictions.set_index('ztfid')"
   ]
  },
  {
   "cell_type": "code",
   "execution_count": 17,
   "metadata": {},
   "outputs": [],
   "source": [
    "predictions['target'] = predictions.index.map(ztfid_target)"
   ]
  },
  {
   "cell_type": "code",
   "execution_count": 22,
   "metadata": {},
   "outputs": [
    {
     "output_type": "execute_result",
     "data": {
      "text/plain": [
       "SN Ia              99\n",
       "SN II              25\n",
       "AGN                12\n",
       "CV                 10\n",
       "CV?                 5\n",
       "SLSN-I              4\n",
       "SN IIb              4\n",
       "SN Ic               3\n",
       "SN IIP              3\n",
       "SN Ia-91T           3\n",
       "SN IIn              3\n",
       "SN?                 2\n",
       "SN Ia 91bg-like     2\n",
       "duplicate           2\n",
       "AGN?                2\n",
       "nova?               2\n",
       "star                2\n",
       "SN                  2\n",
       "SN Ia 91T-like      2\n",
       "Var                 1\n",
       "SN Ic-BL            1\n",
       "blazar              1\n",
       "SN Ib/c             1\n",
       "SLSN-II             1\n",
       "Q                   1\n",
       "SN Ia               1\n",
       "SNIa                1\n",
       "SN Ia-02cx          1\n",
       "varstar?            1\n",
       "SN Ia?              1\n",
       "Name: target, dtype: int64"
      ]
     },
     "metadata": {},
     "execution_count": 22
    }
   ],
   "source": [
    "predictions[predictions['pred_class'] == 0]['target'].value_counts()"
   ]
  },
  {
   "cell_type": "code",
   "execution_count": 23,
   "metadata": {},
   "outputs": [
    {
     "output_type": "execute_result",
     "data": {
      "text/plain": [
       "SN Ia        1444\n",
       "SN II         330\n",
       "AGN           223\n",
       "CV            178\n",
       "SN Ia-91T      67\n",
       "             ... \n",
       "Duplicate       1\n",
       "galaxy          1\n",
       "Gap             1\n",
       "unk             1\n",
       "QSO?            1\n",
       "Name: target, Length: 97, dtype: int64"
      ]
     },
     "metadata": {},
     "execution_count": 23
    }
   ],
   "source": [
    "predictions[predictions['pred_class'] == 1]['target'].value_counts()"
   ]
  }
 ]
}