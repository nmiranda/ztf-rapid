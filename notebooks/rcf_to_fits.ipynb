{
 "cells": [
  {
   "cell_type": "code",
   "execution_count": null,
   "metadata": {},
   "outputs": [],
   "source": [
    "import pandas as pd\n",
    "from FATS.Feature import FeatureSpace\n",
    "from ztfrapid import ztf_rapid\n",
    "import numpy as np\n",
    "from astropy.io import fits as pf"
   ]
  },
  {
   "cell_type": "code",
   "execution_count": null,
   "metadata": {},
   "outputs": [],
   "source": [
    "lc_data = pd.read_pickle('/home/nmiranda/workspace/ztf_rapid/data/raw/rcf_marshallc_sncosmo_200114_2018classupdate_addedcv.pkl')"
   ]
  },
  {
   "cell_type": "code",
   "execution_count": null,
   "metadata": {},
   "outputs": [],
   "source": [
    "this_id = list(lc_data.keys())[0]\n",
    "this_lcs = lc_data[this_id]\n",
    "this_lc = this_lcs[this_lcs['band'] == 'p48r']\n",
    "this_mag = ztf_rapid.get_mag(this_lc)\n",
    "this_mjd = np.array(this_lc[this_lc['flux'] > 0.0]['mjd'])\n",
    "this_mag_err = ztf_rapid.get_mag_err(this_lc)\n",
    "fields = [this_mag, this_mjd, this_mag_err]"
   ]
  },
  {
   "cell_type": "code",
   "execution_count": null,
   "metadata": {},
   "outputs": [],
   "source": [
    "feature_list = ['CAR_sigma', 'CAR_mean', 'Meanvariance', 'Mean', 'PercentAmplitude', 'Skew', 'AndersonDarling', 'Std', 'MedianAbsDev', 'Q31', 'Amplitude', 'PeriodLS']"
   ]
  },
  {
   "cell_type": "code",
   "execution_count": null,
   "metadata": {},
   "outputs": [],
   "source": [
    "feature_space = FeatureSpace(featureList=feature_list)\n",
    "# feature_space = feature_space.calculateFeature(np.array([this_mag, this_mjd, this_mag_err]))\n",
    "feature_space = feature_space.calculateFeature(np.array(fields))\n",
    "feature_space.result()"
   ]
  },
  {
   "cell_type": "code",
   "execution_count": null,
   "metadata": {},
   "outputs": [],
   "source": [
    "set(lc_data[this_id]['band'])"
   ]
  },
  {
   "cell_type": "code",
   "execution_count": null,
   "metadata": {
    "tags": [
     "outputPrepend"
    ]
   },
   "outputs": [],
   "source": [
    "result_list = list()\n",
    "id_list = list()\n",
    "target_list = list()\n",
    "for this_id in lc_data.keys():\n",
    "    this_lcs = lc_data[this_id]\n",
    "    if len(this_lcs) < 1:\n",
    "        continue\n",
    "    this_lc = this_lcs[this_lcs['band'] == 'p48r']\n",
    "    this_mag = ztf_rapid.get_mag(this_lc)\n",
    "    this_mjd = np.array(this_lc[this_lc['flux'] > 0.0]['mjd'])\n",
    "    this_mag_err = ztf_rapid.get_mag_err(this_lc)\n",
    "    if len(this_mag) < 1:\n",
    "        continue\n",
    "    fields = [this_mag, this_mjd, this_mag_err]\n",
    "    feature_space = FeatureSpace(featureList=feature_list)\n",
    "    feature_space = feature_space.calculateFeature(np.array(fields))\n",
    "    result_list.append(feature_space.result())\n",
    "    id_list.append(this_id)\n",
    "    target_list.append(this_lc.meta['classification'])"
   ]
  },
  {
   "cell_type": "code",
   "execution_count": null,
   "metadata": {},
   "outputs": [],
   "source": [
    "features = pd.DataFrame(result_list, columns=feature_list)"
   ]
  },
  {
   "cell_type": "code",
   "execution_count": null,
   "metadata": {},
   "outputs": [],
   "source": [
    "features['ztfid'] = id_list\n",
    "features['target'] = target_list"
   ]
  },
  {
   "cell_type": "code",
   "execution_count": null,
   "metadata": {},
   "outputs": [],
   "source": [
    "features"
   ]
  },
  {
   "cell_type": "code",
   "execution_count": null,
   "metadata": {},
   "outputs": [],
   "source": [
    "table = features\n",
    "coldefs = [\n",
    "    pf.Column(name='ztfid', format='12A', array=np.array(table['ztfid'])),\n",
    "    pf.Column(name='CAR_mean', format='F', array=table['CAR_mean']),\n",
    "    pf.Column(name='Meanvariance', format='F', array=table['Meanvariance']),\n",
    "    pf.Column(name='Mean', format='F', array=table['Mean']),\n",
    "    pf.Column(name='PercentAmplitude', format='F', array=table['PercentAmplitude']),\n",
    "    pf.Column(name='Skew', format='F', array=table['Skew']),\n",
    "    pf.Column(name='AndersonDarling', format='F', array=table['AndersonDarling']),\n",
    "    pf.Column(name='Std', format='F', array=table['Std']),\n",
    "    pf.Column(name='MedianAbsDev', format='F', array=table['MedianAbsDev']),\n",
    "    pf.Column(name='Q31', format='F', array=table['Q31']),\n",
    "    pf.Column(name='Amplitude', format='F', array=table['Amplitude']),\n",
    "    pf.Column(name='PeriodLS', format='F', array=table['PeriodLS']),\n",
    "    pf.Column(name='target', format='16A', array=table['target']),\n",
    "]"
   ]
  },
  {
   "cell_type": "code",
   "execution_count": null,
   "metadata": {},
   "outputs": [],
   "source": [
    "tbhdu = pf.BinTableHDU.from_columns(coldefs)\n",
    "tbhdu.writeto('/home/nmiranda/workspace/ztf_rapid/data/interim/rcf_fats_features.fits', checksum=True, overwrite=True)"
   ]
  },
  {
   "cell_type": "code",
   "execution_count": null,
   "metadata": {
    "tags": [
     "outputPrepend"
    ]
   },
   "outputs": [],
   "source": [
    "ztf_rapid.generate_fits_features_band(\n",
    "    '/home/nmiranda/workspace/ztf_rapid/data/raw/rcf_marshallc_sncosmo_200114_2018classupdate_addedcv.pkl', \n",
    "    '/home/nmiranda/workspace/ztf_rapid/data/interim/rcf_fats_features_p48r.fits', \n",
    "    'p48r')"
   ]
  },
  {
   "cell_type": "code",
   "execution_count": null,
   "metadata": {
    "tags": [
     "outputPrepend"
    ]
   },
   "outputs": [],
   "source": [
    "ztf_rapid.generate_fits_features_band(\n",
    "    '/home/nmiranda/workspace/ztf_rapid/data/raw/rcf_marshallc_sncosmo_200114_2018classupdate_addedcv.pkl', \n",
    "    '/home/nmiranda/workspace/ztf_rapid/data/interim/rcf_fats_features_p48g.fits', \n",
    "    'p48g')"
   ]
  },
  {
   "cell_type": "code",
   "execution_count": null,
   "metadata": {
    "tags": [
     "outputPrepend"
    ]
   },
   "outputs": [],
   "source": [
    "ztf_rapid.generate_fits_features_band(\n",
    "    '/home/nmiranda/workspace/ztf_rapid/data/raw/rcf_marshallc_sncosmo_200114_2018classupdate_addedcv.pkl', \n",
    "    '/home/nmiranda/workspace/ztf_rapid/data/interim/rcf_fats_features_p48i.fits', \n",
    "    'p48i')"
   ]
  }
 ],
 "metadata": {
  "kernelspec": {
   "display_name": "Python 3",
   "language": "python",
   "name": "python3"
  },
  "language_info": {
   "codemirror_mode": {
    "name": "ipython",
    "version": 3
   },
   "file_extension": ".py",
   "mimetype": "text/x-python",
   "name": "python",
   "nbconvert_exporter": "python",
   "pygments_lexer": "ipython3",
   "version": "3.6.12"
  }
 },
 "nbformat": 4,
 "nbformat_minor": 2
}
