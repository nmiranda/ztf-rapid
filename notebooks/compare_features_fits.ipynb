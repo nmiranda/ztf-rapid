{
 "metadata": {
  "language_info": {
   "codemirror_mode": {
    "name": "ipython",
    "version": 3
   },
   "file_extension": ".py",
   "mimetype": "text/x-python",
   "name": "python",
   "nbconvert_exporter": "python",
   "pygments_lexer": "ipython3",
   "version": "3.6.12"
  },
  "orig_nbformat": 2,
  "kernelspec": {
   "name": "python3612jvsc74a57bd0fb1bccc6c1d11f3af6488db0f7eb49bf71f8221f9aeb7a72e777b2fa5f4a84fa",
   "display_name": "Python 3.6.12 64-bit ('ztf_rapid': conda)"
  }
 },
 "nbformat": 4,
 "nbformat_minor": 2,
 "cells": [
  {
   "cell_type": "code",
   "execution_count": 85,
   "metadata": {},
   "outputs": [],
   "source": [
    "from astropy.io import fits as pf\n",
    "import pandas as pd\n",
    "import numpy as np"
   ]
  },
  {
   "cell_type": "code",
   "execution_count": 76,
   "metadata": {},
   "outputs": [],
   "source": [
    "lc_data = pd.read_pickle('/home/nmiranda/workspace/ztf_rapid/data/raw/rcf_marshallc_sncosmo_200114_2018classupdate_addedcv.pkl')"
   ]
  },
  {
   "cell_type": "code",
   "execution_count": 26,
   "metadata": {},
   "outputs": [],
   "source": [
    "# hdul_snguess = pf.open('/home/nmiranda/workspace/ztf_rapid/data/interim/snguess_features.fits')\n",
    "# hdul_snguess.info()\n",
    "# hdul_snguess[1].columns"
   ]
  },
  {
   "cell_type": "code",
   "execution_count": 13,
   "metadata": {},
   "outputs": [
    {
     "output_type": "stream",
     "name": "stdout",
     "text": [
      "Filename: /home/nmiranda/workspace/ztf_rapid/data/interim/rcf_cesium_features.fits\nNo.    Name      Ver    Type      Cards   Dimensions   Format\n  0  PRIMARY       1 PrimaryHDU       6   ()      \n  1                1 BinTableHDU    102   4572R x 46C   [12A, D, D, D, D, D, D, D, D, D, D, D, D, D, D, D, D, D, D, D, D, D, D, D, D, D, D, D, D, D, D, D, D, D, D, D, D, D, D, D, D, D, D, D, D, 16A]   \n"
     ]
    },
    {
     "output_type": "execute_result",
     "data": {
      "text/plain": [
       "ColDefs(\n",
       "    name = 'ztfid'; format = '12A'\n",
       "    name = 'amplitude_meta'; format = 'D'\n",
       "    name = 'amplitude_p48g'; format = 'D'\n",
       "    name = 'amplitude_p48r'; format = 'D'\n",
       "    name = 'amplitude_p48i'; format = 'D'\n",
       "    name = 'max_slope_meta'; format = 'D'\n",
       "    name = 'max_slope_p48g'; format = 'D'\n",
       "    name = 'max_slope_p48r'; format = 'D'\n",
       "    name = 'max_slope_p48i'; format = 'D'\n",
       "    name = 'maximum_meta'; format = 'D'\n",
       "    name = 'maximum_p48g'; format = 'D'\n",
       "    name = 'maximum_p48r'; format = 'D'\n",
       "    name = 'maximum_p48i'; format = 'D'\n",
       "    name = 'median_meta'; format = 'D'\n",
       "    name = 'median_p48g'; format = 'D'\n",
       "    name = 'median_p48r'; format = 'D'\n",
       "    name = 'median_p48i'; format = 'D'\n",
       "    name = 'median_absolute_deviation_meta'; format = 'D'\n",
       "    name = 'median_absolute_deviation_p48g'; format = 'D'\n",
       "    name = 'median_absolute_deviation_p48r'; format = 'D'\n",
       "    name = 'median_absolute_deviation_p48i'; format = 'D'\n",
       "    name = 'minimum_meta'; format = 'D'\n",
       "    name = 'minimum_p48g'; format = 'D'\n",
       "    name = 'minimum_p48r'; format = 'D'\n",
       "    name = 'minimum_p48i'; format = 'D'\n",
       "    name = 'percent_beyond_1_std_meta'; format = 'D'\n",
       "    name = 'percent_beyond_1_std_p48g'; format = 'D'\n",
       "    name = 'percent_beyond_1_std_p48r'; format = 'D'\n",
       "    name = 'percent_beyond_1_std_p48i'; format = 'D'\n",
       "    name = 'percent_close_to_median_meta'; format = 'D'\n",
       "    name = 'percent_close_to_median_p48g'; format = 'D'\n",
       "    name = 'percent_close_to_median_p48r'; format = 'D'\n",
       "    name = 'percent_close_to_median_p48i'; format = 'D'\n",
       "    name = 'skew_meta'; format = 'D'\n",
       "    name = 'skew_p48g'; format = 'D'\n",
       "    name = 'skew_p48r'; format = 'D'\n",
       "    name = 'skew_p48i'; format = 'D'\n",
       "    name = 'std_meta'; format = 'D'\n",
       "    name = 'std_p48g'; format = 'D'\n",
       "    name = 'std_p48r'; format = 'D'\n",
       "    name = 'std_p48i'; format = 'D'\n",
       "    name = 'weighted_average_meta'; format = 'D'\n",
       "    name = 'weighted_average_p48g'; format = 'D'\n",
       "    name = 'weighted_average_p48r'; format = 'D'\n",
       "    name = 'weighted_average_p48i'; format = 'D'\n",
       "    name = 'target'; format = '16A'\n",
       ")"
      ]
     },
     "metadata": {},
     "execution_count": 13
    }
   ],
   "source": [
    "hdul_cesium = pf.open('/home/nmiranda/workspace/ztf_rapid/data/interim/rcf_cesium_features.fits')\n",
    "hdul_cesium.info()\n",
    "hdul_cesium[1].columns"
   ]
  },
  {
   "cell_type": "code",
   "execution_count": 25,
   "metadata": {},
   "outputs": [
    {
     "output_type": "stream",
     "name": "stdout",
     "text": [
      "Filename: /home/nmiranda/workspace/ztf_rapid/data/interim/rcf_fats_features_p48r.fits\nNo.    Name      Ver    Type      Cards   Dimensions   Format\n  0  PRIMARY       1 PrimaryHDU       6   ()      \n  1                1 BinTableHDU     36   4431R x 13C   [12A, D, D, D, D, D, D, D, D, D, D, D, 16A]   \n"
     ]
    },
    {
     "output_type": "execute_result",
     "data": {
      "text/plain": [
       "ColDefs(\n",
       "    name = 'ztfid'; format = '12A'\n",
       "    name = 'CAR_mean'; format = 'D'\n",
       "    name = 'Meanvariance'; format = 'D'\n",
       "    name = 'Mean'; format = 'D'\n",
       "    name = 'PercentAmplitude'; format = 'D'\n",
       "    name = 'Skew'; format = 'D'\n",
       "    name = 'AndersonDarling'; format = 'D'\n",
       "    name = 'Std'; format = 'D'\n",
       "    name = 'MedianAbsDev'; format = 'D'\n",
       "    name = 'Q31'; format = 'D'\n",
       "    name = 'Amplitude'; format = 'D'\n",
       "    name = 'PeriodLS'; format = 'D'\n",
       "    name = 'target'; format = '16A'\n",
       ")"
      ]
     },
     "metadata": {},
     "execution_count": 25
    }
   ],
   "source": [
    "hdul_fats = pf.open('/home/nmiranda/workspace/ztf_rapid/data/interim/rcf_fats_features_p48r.fits')\n",
    "hdul_fats.info()\n",
    "hdul_fats[1].columns"
   ]
  },
  {
   "cell_type": "code",
   "execution_count": 79,
   "metadata": {
    "tags": []
   },
   "outputs": [
    {
     "output_type": "stream",
     "name": "stdout",
     "text": [
      "Filename: /home/nmiranda/workspace/ztf_rapid/data/interim/rcf_tsfresh_features_p48r.fits\nNo.    Name      Ver    Type      Cards   Dimensions   Format\n  0  PRIMARY       1 PrimaryHDU       6   ()      \n  1                1 BinTableHDU   1534   4525R x 762C   [12A, D, D, D, D, D, D, D, D, D, D, D, D, D, D, D, D, D, D, D, D, D, D, D, D, D, D, D, D, D, D, D, D, D, D, D, D, D, D, D, D, D, D, D, D, D, D, D, D, D, D, D, D, D, D, D, D, D, D, D, D, D, D, D, D, D, D, D, D, D, D, D, D, D, D, D, D, D, D, D, D, D, D, D, D, D, D, D, D, D, D, D, D, D, D, D, D, D, D, D, D, D, D, D, D, D, D, D, D, D, D, D, D, D, D, D, D, D, D, D, D, D, D, D, D, D, D, D, D, D, D, D, D, D, D, D, D, D, D, D, D, D, D, D, D, D, D, D, D, D, D, D, D, D, D, D, D, D, D, D, D, D, D, D, D, D, D, D, D, D, D, D, D, D, D, D, D, D, D, D, D, D, D, D, D, D, D, D, D, D, D, D, D, D, D, D, D, D, D, D, D, D, D, D, D, D, D, D, D, D, D, D, D, D, D, D, D, D, D, D, D, D, D, D, D, D, D, D, D, D, D, D, D, D, D, D, D, D, D, D, D, D, D, D, D, D, D, D, D, D, D, D, D, D, D, D, D, D, D, D, D, D, D, D, D, D, D, D, D, D, D, D, D, D, D, D, D, D, D, D, D, D, D, D, D, D, D, D, D, D, D, D, D, D, D, D, D, D, D, D, D, D, D, D, D, D, D, D, D, D, D, D, D, D, D, D, D, D, D, D, D, D, D, D, D, D, D, D, D, D, D, D, D, D, D, D, D, D, D, D, D, D, D, D, D, D, D, D, D, D, D, D, D, D, D, D, D, D, D, D, D, D, D, D, D, D, D, D, D, D, D, D, D, D, D, D, D, D, D, D, D, D, D, D, D, D, D, D, D, D, D, D, D, D, D, D, D, D, D, D, D, D, D, D, D, D, D, D, D, D, D, D, D, D, D, D, D, D, D, D, D, D, D, D, D, D, D, D, D, D, D, D, D, D, D, D, D, D, D, D, D, D, D, D, D, D, D, D, D, D, D, D, D, D, D, D, D, D, D, D, D, D, D, D, D, D, D, D, D, D, D, D, D, D, D, D, D, D, D, D, D, D, D, D, D, D, D, D, D, D, D, D, D, D, D, D, D, D, D, D, D, D, D, D, D, D, D, D, D, D, D, D, D, D, D, D, D, D, D, D, D, D, D, D, D, D, D, D, D, D, D, D, D, D, D, D, D, D, D, D, D, D, D, D, D, D, D, D, D, D, D, D, D, D, D, D, D, D, D, D, D, D, D, D, D, D, D, D, D, D, D, D, D, D, D, D, D, D, D, D, D, D, D, D, D, D, D, D, D, D, D, D, D, D, D, D, D, D, D, D, D, D, D, D, D, D, D, D, D, D, D, D, D, D, D, D, D, D, D, D, D, D, D, D, D, D, D, D, D, D, D, D, D, D, D, D, D, D, D, D, D, D, D, D, D, D, D, D, D, D, D, D, D, D, D, D, D, D, D, D, D, D, D, D, D, D, D, D, D, D, D, D, D, D, D, D, D, D, D, D, D, D, D, D, D, D, D, D, D, D, D, D, D, D, D, D, D, D, D, D, D, D, D, D, D, D, D, D, D, D, D, D, D, D, D, D, D, D, D, D, D, D, D, D, D, D, D, D, D, D, D, D, D, D, D, D, D, D, D, D, D, D, D, D, D, D, D, D, D, D, D, D, D, D, D, D, D, D, D, D, D, 16A]   \n"
     ]
    },
    {
     "output_type": "execute_result",
     "data": {
      "text/plain": [
       "760"
      ]
     },
     "metadata": {},
     "execution_count": 79
    }
   ],
   "source": [
    "hdul_tsfresh = pf.open('/home/nmiranda/workspace/ztf_rapid/data/interim/rcf_tsfresh_features_p48r.fits')\n",
    "hdul_tsfresh.info()\n",
    "csv_tsfresh_names = pd.read_csv('/home/nmiranda/workspace/ztf_rapid/data/interim/rcf_tsfresh_features_names_p48r.csv').drop('Unnamed: 0', axis=1)\n",
    "len(list(csv_tsfresh_names['0']))"
   ]
  },
  {
   "cell_type": "code",
   "execution_count": null,
   "metadata": {},
   "outputs": [],
   "source": [
    "# mean Mean\n",
    "# Amplitude\n",
    "# MedianAbsDev median_absolute_deviation\n",
    "# skewness Skew\n",
    "# maximum\n",
    "# minimum\n",
    "# std standard_deviation"
   ]
  },
  {
   "cell_type": "code",
   "execution_count": 67,
   "metadata": {},
   "outputs": [
    {
     "output_type": "execute_result",
     "data": {
      "text/plain": [
       "12"
      ]
     },
     "metadata": {},
     "execution_count": 67
    }
   ],
   "source": [
    "# 'ZTF18acbwxgn'\n",
    "# list(hdul_tsfresh[1].data['ztfid']).index('ZTF18acbwxgn')\n",
    "# list(csv_tsfresh_names['0']).index('p48r__standard_deviation')"
   ]
  },
  {
   "cell_type": "code",
   "execution_count": 74,
   "metadata": {},
   "outputs": [
    {
     "output_type": "stream",
     "name": "stdout",
     "text": [
      "ZTF18acbwxgn\n151.09958190518697\nZTF18acbwxgn\n0.34874202499842144\nZTF18acbwxgn\n169.78650279901925\n"
     ]
    }
   ],
   "source": [
    "print(hdul_cesium[1].data[3]['ztfid'])\n",
    "print(hdul_cesium[1].data[3]['std_p48r'])\n",
    "print(hdul_fats[1].data[3]['ztfid'])\n",
    "print(hdul_fats[1].data[3]['std'])\n",
    "print(hdul_tsfresh[1].data[1096]['ztfid'])\n",
    "print(hdul_tsfresh[1].data[1096][13])"
   ]
  },
  {
   "cell_type": "code",
   "execution_count": 89,
   "metadata": {},
   "outputs": [
    {
     "output_type": "execute_result",
     "data": {
      "text/plain": [
       "169.78650279901925"
      ]
     },
     "metadata": {},
     "execution_count": 89
    }
   ],
   "source": [
    "np.std(lc_data['ZTF18acbwxgn'][lc_data['ZTF18acbwxgn']['band'] == 'p48r']['flux'])"
   ]
  }
 ]
}