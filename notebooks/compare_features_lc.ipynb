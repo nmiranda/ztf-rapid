{
 "cells": [
  {
   "cell_type": "code",
   "execution_count": 1,
   "metadata": {},
   "outputs": [
    {
     "name": "stdout",
     "output_type": "stream",
     "text": [
      "You will need to install 'emcee' if you wish to train your own classifier on new data.\n"
     ]
    }
   ],
   "source": [
    "import pandas as pd\n",
    "from ztfrapid.ztf_rapid import plot_raw_lightcurve\n",
    "import cesium.featurize as featurize\n",
    "from cesium.time_series import TimeSeries\n",
    "from FATS.Feature import FeatureSpace\n",
    "import numpy as np\n",
    "from tsfresh import extract_features\n",
    "import light_curve"
   ]
  },
  {
   "cell_type": "code",
   "execution_count": 2,
   "metadata": {},
   "outputs": [],
   "source": [
    "lc_data = pd.read_pickle('/home/nmiranda/workspace/ztf_rapid/data/raw/rcf_marshallc_sncosmo_200114_2018classupdate_addedcv.pkl')"
   ]
  },
  {
   "cell_type": "code",
   "execution_count": 3,
   "metadata": {},
   "outputs": [
    {
     "name": "stdout",
     "output_type": "stream",
     "text": [
      "ZTF19abpidqn\n",
      "403\n",
      "{'p48g', 'p48r', 'uvotu', 'uvm2', 'uvotv', 'uvotb', 'uvw1', 'uvw2'}\n"
     ]
    },
    {
     "data": {
      "text/plain": [
       "<AxesSubplot:title={'center':'ZTFID: ZTF19abpidqn, Type: SN IIn'}, xlabel='Time (MJD)', ylabel='Flux'>"
      ]
     },
     "execution_count": 3,
     "metadata": {},
     "output_type": "execute_result"
    },
    {
     "data": {
      "image/png": "[encoded data removed]",
      "text/plain": [
       "<Figure size 432x288 with 1 Axes>"
      ]
     },
     "metadata": {
      "needs_background": "light"
     },
     "output_type": "display_data"
    }
   ],
   "source": [
    "# idx = 5\n",
    "# ztfid = list(lc_data.keys())[idx]\n",
    "ztfid = 'ZTF19abpidqn'\n",
    "lc = lc_data[ztfid]\n",
    "print(ztfid)\n",
    "print(len(lc))\n",
    "print(set(lc['band']))\n",
    "plot_raw_lightcurve(lc)"
   ]
  },
  {
   "cell_type": "markdown",
   "metadata": {},
   "source": [
    "# Numpy"
   ]
  },
  {
   "cell_type": "code",
   "execution_count": 50,
   "metadata": {},
   "outputs": [
    {
     "name": "stdout",
     "output_type": "stream",
     "text": [
      "168.5278205272246\n",
      "170.8524520026375\n"
     ]
    }
   ],
   "source": [
    "this_lc = lc[lc['band'] == 'p48g']\n",
    "print(np.std(this_lc['flux'], ddof=0))\n",
    "print(np.std(this_lc['flux'], ddof=1))"
   ]
  },
  {
   "cell_type": "markdown",
   "metadata": {},
   "source": [
    "# Cesium"
   ]
  },
  {
   "cell_type": "code",
   "execution_count": 4,
   "metadata": {},
   "outputs": [],
   "source": [
    "# pbnames = set(lc['band'])\n",
    "# print(pbnames)\n",
    "pbnames = ['p48g', 'p48r']\n",
    "\n",
    "pbind = [(lc['band'] == pb) for pb in pbnames]\n",
    "t = [lc['mjd'][mask].data for mask in pbind ]\n",
    "m = [lc['flux'][mask].data for mask in pbind]\n",
    "e = [lc['fluxerr'][mask].data for mask in pbind ]\n",
    "target = lc.meta['classification']\n",
    "try:\n",
    "    this_z = lc['z']\n",
    "except KeyError:\n",
    "    this_z = None\n",
    "try:\n",
    "    this_mwevb = lc['mwebv']\n",
    "except KeyError:\n",
    "    this_mwebv = None\n",
    "\n",
    "meta = {'z':this_z,\\\n",
    "        'mwebv':this_mwebv}\n",
    "\n",
    "tsobj = TimeSeries(t=t, m=m, e=e,label=target, name=ztfid, meta_features=meta,channel_names=pbnames )"
   ]
  },
  {
   "cell_type": "code",
   "execution_count": 5,
   "metadata": {},
   "outputs": [
    {
     "name": "stderr",
     "output_type": "stream",
     "text": [
      "/home/nmiranda/miniconda3/envs/ztf_rapid/lib/python3.6/site-packages/cesium/features/scatter_res_raw.py:14: RuntimeWarning: divide by zero encountered in double_scalars\n",
      "  cf.median_absolute_deviation(m))\n",
      "/home/nmiranda/miniconda3/envs/ztf_rapid/lib/python3.6/site-packages/cesium/features/period_folding.py:88: RuntimeWarning: invalid value encountered in double_scalars\n",
      "  out_dict['scatter_over_mad'] = median_diff / mad\n",
      "/home/nmiranda/miniconda3/envs/ztf_rapid/lib/python3.6/site-packages/cesium/features/period_folding.py:91: RuntimeWarning: invalid value encountered in double_scalars\n",
      "  out_dict['scatter_pfold_over_mad'] = median_1per_fold_diff / mad\n",
      "/home/nmiranda/miniconda3/envs/ztf_rapid/lib/python3.6/site-packages/cesium/features/cadence_features.py:12: RuntimeWarning: divide by zero encountered in true_divide\n",
      "  return (cads[2:] + cads[:-2]) / (cads[1:-1] - cads[:-2])\n",
      "/home/nmiranda/miniconda3/envs/ztf_rapid/lib/python3.6/site-packages/numpy/core/_methods.py:202: RuntimeWarning: invalid value encountered in subtract\n",
      "  x = asanyarray(arr - arrmean)\n"
     ]
    },
    {
     "data": {
      "text/plain": [
       "feature  channel\n",
       "std      0          168.527821\n",
       "         1          243.861664\n",
       "dtype: float64"
      ]
     },
     "execution_count": 5,
     "metadata": {},
     "output_type": "execute_result"
    }
   ],
   "source": [
    "features_to_use = [\"std\"]\n",
    "thisfeats = featurize.featurize_single_ts(tsobj, features_to_use=features_to_use, raise_exceptions=False)\n",
    "thisfeats"
   ]
  },
  {
   "cell_type": "markdown",
   "metadata": {},
   "source": [
    "# FATS"
   ]
  },
  {
   "cell_type": "code",
   "execution_count": 6,
   "metadata": {},
   "outputs": [
    {
     "data": {
      "text/plain": [
       "array([168.52782053])"
      ]
     },
     "execution_count": 6,
     "metadata": {},
     "output_type": "execute_result"
    }
   ],
   "source": [
    "this_lc = lc[lc['band'] == 'p48g']\n",
    "fields = [\n",
    "    this_lc['flux'], \n",
    "    this_lc['mjd'], \n",
    "    this_lc['fluxerr']\n",
    "    ]\n",
    "\n",
    "feature_space = FeatureSpace(featureList=[\"Std\"])\n",
    "feature_space = feature_space.calculateFeature(np.array(fields))\n",
    "feature_space.result()"
   ]
  },
  {
   "cell_type": "markdown",
   "metadata": {},
   "source": [
    "# TSFresh"
   ]
  },
  {
   "cell_type": "code",
   "execution_count": 7,
   "metadata": {},
   "outputs": [
    {
     "name": "stderr",
     "output_type": "stream",
     "text": [
      "Feature Extraction: 100%|██████████| 1/1 [00:00<00:00, 483.16it/s]\n"
     ]
    },
    {
     "data": {
      "text/html": [
       "<div>\n",
       "<style scoped>\n",
       "    .dataframe tbody tr th:only-of-type {\n",
       "        vertical-align: middle;\n",
       "    }\n",
       "\n",
       "    .dataframe tbody tr th {\n",
       "        vertical-align: top;\n",
       "    }\n",
       "\n",
       "    .dataframe thead th {\n",
       "        text-align: right;\n",
       "    }\n",
       "</style>\n",
       "<table border=\"1\" class=\"dataframe\">\n",
       "  <thead>\n",
       "    <tr style=\"text-align: right;\">\n",
       "      <th></th>\n",
       "      <th>flux__standard_deviation</th>\n",
       "    </tr>\n",
       "  </thead>\n",
       "  <tbody>\n",
       "    <tr>\n",
       "      <th>ZTF19abpidqn</th>\n",
       "      <td>168.527821</td>\n",
       "    </tr>\n",
       "  </tbody>\n",
       "</table>\n",
       "</div>"
      ],
      "text/plain": [
       "              flux__standard_deviation\n",
       "ZTF19abpidqn                168.527821"
      ]
     },
     "execution_count": 7,
     "metadata": {},
     "output_type": "execute_result"
    }
   ],
   "source": [
    "lc_df = lc.to_pandas().reset_index(drop=True)\n",
    "lc_df['id'] = ztfid\n",
    "lc_df = lc_df[lc_df['band'] == 'p48g']\n",
    "\n",
    "fc_parameters = {\n",
    "    \"standard_deviation\": None,\n",
    "}\n",
    "extract_features(lc_df, column_id=\"id\", column_sort=\"mjd\", column_value='flux', n_jobs=0, default_fc_parameters=fc_parameters)"
   ]
  },
  {
   "cell_type": "markdown",
   "metadata": {},
   "source": [
    "# light-curve-python"
   ]
  },
  {
   "cell_type": "code",
   "execution_count": 8,
   "metadata": {},
   "outputs": [],
   "source": [
    "features = {'StandardDeviation': None}\n",
    "light_curve.StandardDeviation?"
   ]
  },
  {
   "cell_type": "code",
   "execution_count": 56,
   "metadata": {},
   "outputs": [
    {
     "data": {
      "text/plain": [
       "array([170.852452])"
      ]
     },
     "execution_count": 56,
     "metadata": {},
     "output_type": "execute_result"
    }
   ],
   "source": [
    "this_lc = lc[lc['band'] == 'p48g']\n",
    "light_curve.StandardDeviation()(t=this_lc['mjd'], m=this_lc['flux'])"
   ]
  }
 ],
 "metadata": {
  "kernelspec": {
   "display_name": "Python 3",
   "language": "python",
   "name": "python3"
  },
  "language_info": {
   "codemirror_mode": {
    "name": "ipython",
    "version": 3
   },
   "file_extension": ".py",
   "mimetype": "text/x-python",
   "name": "python",
   "nbconvert_exporter": "python",
   "pygments_lexer": "ipython3",
   "version": "3.6.12"
  }
 },
 "nbformat": 4,
 "nbformat_minor": 2
}
