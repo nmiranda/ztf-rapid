{
 "cells": [
  {
   "cell_type": "code",
   "execution_count": 1,
   "metadata": {},
   "outputs": [],
   "source": [
    "from kerastuner import HyperModel\n",
    "import numpy as np\n",
    "from kerastuner.tuners import RandomSearch\n",
    "from tensorflow import keras\n",
    "from tensorflow.keras import layers"
   ]
  },
  {
   "cell_type": "code",
   "execution_count": 2,
   "metadata": {},
   "outputs": [],
   "source": [
    "class HyperRAPID(HyperModel):\n",
    "\n",
    "    def __init__(self, num_classes):\n",
    "        self.num_classes = num_classes\n",
    "\n",
    "    def build(self, hp):\n",
    "        \n",
    "        model = keras.Sequential()\n",
    "        model.add(layers.Masking(mask_value=0.))\n",
    "        for i in range(hp.Int('num_layers', 1, 3)):\n",
    "            model.add(layers.LSTM(hp.Choice('units', [25,50,100]), return_sequences=True, dropout=hp.Choice('dropout', [0.0,0.1,0.2,0.3])))\n",
    "        model.add(layers.TimeDistributed(layers.Dense(self.num_classes, activation='softmax')))\n",
    "        model.compile(loss='categorical_crossentropy', optimizer='adam', metrics=['accuracy'])\n",
    "\n",
    "        return model"
   ]
  },
  {
   "cell_type": "code",
   "execution_count": 3,
   "metadata": {},
   "outputs": [],
   "source": [
    "files = np.load('/home/miranda/ztf-rapid/data/processed/test_none/test_none.npz')"
   ]
  },
  {
   "cell_type": "code",
   "execution_count": 4,
   "metadata": {},
   "outputs": [
    {
     "data": {
      "text/plain": [
       "['X_train', 'X_test', 'y_train', 'y_test', 'objids_test', 'class_names']"
      ]
     },
     "execution_count": 4,
     "metadata": {},
     "output_type": "execute_result"
    }
   ],
   "source": [
    "[key for key in files.keys()]"
   ]
  },
  {
   "cell_type": "code",
   "execution_count": 5,
   "metadata": {},
   "outputs": [],
   "source": [
    "y_train = files['y_train'][:,:,1:]\n",
    "y_test = files['y_test'][:,:,1:]"
   ]
  },
  {
   "cell_type": "code",
   "execution_count": 6,
   "metadata": {},
   "outputs": [
    {
     "data": {
      "text/plain": [
       "array(['AGN', 'CV', 'SN II', 'SN Ia'], dtype='<U5')"
      ]
     },
     "execution_count": 6,
     "metadata": {},
     "output_type": "execute_result"
    }
   ],
   "source": [
    "num_classes = len(files['class_names'])\n",
    "files['class_names']"
   ]
  },
  {
   "cell_type": "code",
   "execution_count": 7,
   "metadata": {},
   "outputs": [],
   "source": [
    "hypermodel = HyperRAPID(num_classes)"
   ]
  },
  {
   "cell_type": "code",
   "execution_count": 8,
   "metadata": {},
   "outputs": [
    {
     "name": "stdout",
     "output_type": "stream",
     "text": [
      "INFO:tensorflow:Reloading Oracle from existing project test/test/oracle.json\n"
     ]
    }
   ],
   "source": [
    "tuner = RandomSearch(\n",
    "    hypermodel,\n",
    "    objective='val_accuracy',\n",
    "    max_trials=1,\n",
    "    directory='test',\n",
    "    project_name='test')"
   ]
  },
  {
   "cell_type": "code",
   "execution_count": 9,
   "metadata": {
    "scrolled": true
   },
   "outputs": [
    {
     "name": "stdout",
     "output_type": "stream",
     "text": [
      "Train on 2420 samples, validate on 1616 samples\n",
      "2420/2420 [==============================] - ETA: 18:23 - loss: 0.5111 - accuracy: 0.117 - ETA: 9:42 - loss: 0.4525 - accuracy: 0.405 - ETA: 6:47 - loss: 0.4340 - accuracy: 0.45 - ETA: 5:20 - loss: 0.4260 - accuracy: 0.47 - ETA: 4:27 - loss: 0.3906 - accuracy: 0.55 - ETA: 3:51 - loss: 0.3787 - accuracy: 0.56 - ETA: 3:26 - loss: 0.3909 - accuracy: 0.54 - ETA: 3:06 - loss: 0.4108 - accuracy: 0.52 - ETA: 2:51 - loss: 0.4061 - accuracy: 0.55 - ETA: 2:38 - loss: 0.4190 - accuracy: 0.52 - ETA: 2:27 - loss: 0.4082 - accuracy: 0.55 - ETA: 2:19 - loss: 0.3981 - accuracy: 0.56 - ETA: 2:11 - loss: 0.3978 - accuracy: 0.56 - ETA: 2:04 - loss: 0.3938 - accuracy: 0.57 - ETA: 1:58 - loss: 0.3899 - accuracy: 0.57 - ETA: 1:53 - loss: 0.3946 - accuracy: 0.56 - ETA: 1:48 - loss: 0.3931 - accuracy: 0.56 - ETA: 1:44 - loss: 0.3931 - accuracy: 0.56 - ETA: 1:39 - loss: 0.3902 - accuracy: 0.56 - ETA: 1:36 - loss: 0.3866 - accuracy: 0.56 - ETA: 1:32 - loss: 0.3867 - accuracy: 0.56 - ETA: 1:29 - loss: 0.3832 - accuracy: 0.56 - ETA: 1:25 - loss: 0.3808 - accuracy: 0.57 - ETA: 1:23 - loss: 0.3839 - accuracy: 0.56 - ETA: 1:20 - loss: 0.3796 - accuracy: 0.57 - ETA: 1:17 - loss: 0.3760 - accuracy: 0.57 - ETA: 1:15 - loss: 0.3801 - accuracy: 0.57 - ETA: 1:12 - loss: 0.3826 - accuracy: 0.56 - ETA: 1:10 - loss: 0.3815 - accuracy: 0.56 - ETA: 1:07 - loss: 0.3858 - accuracy: 0.56 - ETA: 1:05 - loss: 0.3852 - accuracy: 0.56 - ETA: 1:03 - loss: 0.3846 - accuracy: 0.56 - ETA: 1:01 - loss: 0.3829 - accuracy: 0.56 - ETA: 59s - loss: 0.3805 - accuracy: 0.5720 - ETA: 57s - loss: 0.3819 - accuracy: 0.572 - ETA: 55s - loss: 0.3829 - accuracy: 0.575 - ETA: 54s - loss: 0.3814 - accuracy: 0.575 - ETA: 52s - loss: 0.3848 - accuracy: 0.572 - ETA: 50s - loss: 0.3860 - accuracy: 0.569 - ETA: 48s - loss: 0.3834 - accuracy: 0.572 - ETA: 47s - loss: 0.3832 - accuracy: 0.576 - ETA: 45s - loss: 0.3807 - accuracy: 0.578 - ETA: 43s - loss: 0.3784 - accuracy: 0.579 - ETA: 42s - loss: 0.3785 - accuracy: 0.577 - ETA: 40s - loss: 0.3788 - accuracy: 0.574 - ETA: 39s - loss: 0.3773 - accuracy: 0.577 - ETA: 37s - loss: 0.3779 - accuracy: 0.575 - ETA: 36s - loss: 0.3770 - accuracy: 0.577 - ETA: 34s - loss: 0.3748 - accuracy: 0.579 - ETA: 33s - loss: 0.3751 - accuracy: 0.579 - ETA: 31s - loss: 0.3748 - accuracy: 0.578 - ETA: 30s - loss: 0.3751 - accuracy: 0.578 - ETA: 29s - loss: 0.3753 - accuracy: 0.580 - ETA: 27s - loss: 0.3733 - accuracy: 0.583 - ETA: 26s - loss: 0.3713 - accuracy: 0.587 - ETA: 25s - loss: 0.3690 - accuracy: 0.588 - ETA: 23s - loss: 0.3697 - accuracy: 0.588 - ETA: 22s - loss: 0.3669 - accuracy: 0.591 - ETA: 20s - loss: 0.3640 - accuracy: 0.595 - ETA: 19s - loss: 0.3646 - accuracy: 0.596 - ETA: 18s - loss: 0.3652 - accuracy: 0.595 - ETA: 16s - loss: 0.3665 - accuracy: 0.594 - ETA: 15s - loss: 0.3647 - accuracy: 0.595 - ETA: 14s - loss: 0.3678 - accuracy: 0.592 - ETA: 13s - loss: 0.3666 - accuracy: 0.594 - ETA: 11s - loss: 0.3671 - accuracy: 0.593 - ETA: 10s - loss: 0.3666 - accuracy: 0.593 - ETA: 9s - loss: 0.3656 - accuracy: 0.593 - ETA: 8s - loss: 0.3649 - accuracy: 0.59 - ETA: 6s - loss: 0.3650 - accuracy: 0.59 - ETA: 5s - loss: 0.3651 - accuracy: 0.59 - ETA: 4s - loss: 0.3664 - accuracy: 0.59 - ETA: 3s - loss: 0.3668 - accuracy: 0.59 - ETA: 1s - loss: 0.3650 - accuracy: 0.59 - ETA: 0s - loss: 0.3654 - accuracy: 0.59 - 105s 43ms/sample - loss: 0.3653 - accuracy: 0.5918 - val_loss: 0.3580 - val_accuracy: 0.5868\n"
     ]
    },
    {
     "data": {
      "text/html": [
       "<span style=\"color:#4527A0\"><h1 style=\"font-size:18px\">Trial complete</h1></span>"
      ],
      "text/plain": [
       "<IPython.core.display.HTML object>"
      ]
     },
     "metadata": {},
     "output_type": "display_data"
    },
    {
     "data": {
      "text/html": [
       "<span style=\"color:#4527A0\"><h1 style=\"font-size:18px\">Trial summary</h1></span>"
      ],
      "text/plain": [
       "<IPython.core.display.HTML object>"
      ]
     },
     "metadata": {},
     "output_type": "display_data"
    },
    {
     "data": {
      "text/html": [
       "<span style=\"color:cyan\"> |-Trial ID: 1c2e6c2dc25ab4570dbcf39435f35871</span>"
      ],
      "text/plain": [
       "<IPython.core.display.HTML object>"
      ]
     },
     "metadata": {},
     "output_type": "display_data"
    },
    {
     "data": {
      "text/html": [
       "<span style=\"color:cyan\"> |-Score: 0.5867958068847656</span>"
      ],
      "text/plain": [
       "<IPython.core.display.HTML object>"
      ]
     },
     "metadata": {},
     "output_type": "display_data"
    },
    {
     "data": {
      "text/html": [
       "<span style=\"color:cyan\"> |-Best step: 0</span>"
      ],
      "text/plain": [
       "<IPython.core.display.HTML object>"
      ]
     },
     "metadata": {},
     "output_type": "display_data"
    },
    {
     "data": {
      "text/html": [
       "<span style=\"color:#7E57C2\"><h2 style=\"font-size:16px\">Hyperparameters:</h2></span>"
      ],
      "text/plain": [
       "<IPython.core.display.HTML object>"
      ]
     },
     "metadata": {},
     "output_type": "display_data"
    },
    {
     "data": {
      "text/html": [
       "<span style=\"color:cyan\"> |-dropout: 0.2</span>"
      ],
      "text/plain": [
       "<IPython.core.display.HTML object>"
      ]
     },
     "metadata": {},
     "output_type": "display_data"
    },
    {
     "data": {
      "text/html": [
       "<span style=\"color:blue\"> |-num_layers: 3</span>"
      ],
      "text/plain": [
       "<IPython.core.display.HTML object>"
      ]
     },
     "metadata": {},
     "output_type": "display_data"
    },
    {
     "data": {
      "text/html": [
       "<span style=\"color:cyan\"> |-units: 100</span>"
      ],
      "text/plain": [
       "<IPython.core.display.HTML object>"
      ]
     },
     "metadata": {},
     "output_type": "display_data"
    },
    {
     "name": "stdout",
     "output_type": "stream",
     "text": [
      "INFO:tensorflow:Oracle triggered exit\n"
     ]
    }
   ],
   "source": [
    "tuner.search(files['X_train'], y_train, epochs=1, validation_data=(files['X_test'], y_test))"
   ]
  },
  {
   "cell_type": "code",
   "execution_count": 10,
   "metadata": {},
   "outputs": [
    {
     "data": {
      "text/html": [
       "<span style=\"color:#4527A0\"><h1 style=\"font-size:18px\">Results summary</h1></span>"
      ],
      "text/plain": [
       "<IPython.core.display.HTML object>"
      ]
     },
     "metadata": {},
     "output_type": "display_data"
    },
    {
     "data": {
      "text/html": [
       "<span style=\"color:cyan\"> |-Results in test/test</span>"
      ],
      "text/plain": [
       "<IPython.core.display.HTML object>"
      ]
     },
     "metadata": {},
     "output_type": "display_data"
    },
    {
     "data": {
      "text/html": [
       "<span style=\"color:cyan\"> |-Showing 10 best trials</span>"
      ],
      "text/plain": [
       "<IPython.core.display.HTML object>"
      ]
     },
     "metadata": {},
     "output_type": "display_data"
    },
    {
     "data": {
      "text/html": [
       "<span style=\"color:cyan\"> |-Objective(name='val_accuracy', direction='max')</span>"
      ],
      "text/plain": [
       "<IPython.core.display.HTML object>"
      ]
     },
     "metadata": {},
     "output_type": "display_data"
    },
    {
     "data": {
      "text/html": [
       "<span style=\"color:#4527A0\"><h1 style=\"font-size:18px\">Trial summary</h1></span>"
      ],
      "text/plain": [
       "<IPython.core.display.HTML object>"
      ]
     },
     "metadata": {},
     "output_type": "display_data"
    },
    {
     "data": {
      "text/html": [
       "<span style=\"color:cyan\"> |-Trial ID: 1c2e6c2dc25ab4570dbcf39435f35871</span>"
      ],
      "text/plain": [
       "<IPython.core.display.HTML object>"
      ]
     },
     "metadata": {},
     "output_type": "display_data"
    },
    {
     "data": {
      "text/html": [
       "<span style=\"color:cyan\"> |-Score: 0.5867958068847656</span>"
      ],
      "text/plain": [
       "<IPython.core.display.HTML object>"
      ]
     },
     "metadata": {},
     "output_type": "display_data"
    },
    {
     "data": {
      "text/html": [
       "<span style=\"color:cyan\"> |-Best step: 0</span>"
      ],
      "text/plain": [
       "<IPython.core.display.HTML object>"
      ]
     },
     "metadata": {},
     "output_type": "display_data"
    },
    {
     "data": {
      "text/html": [
       "<span style=\"color:#7E57C2\"><h2 style=\"font-size:16px\">Hyperparameters:</h2></span>"
      ],
      "text/plain": [
       "<IPython.core.display.HTML object>"
      ]
     },
     "metadata": {},
     "output_type": "display_data"
    },
    {
     "data": {
      "text/html": [
       "<span style=\"color:cyan\"> |-dropout: 0.2</span>"
      ],
      "text/plain": [
       "<IPython.core.display.HTML object>"
      ]
     },
     "metadata": {},
     "output_type": "display_data"
    },
    {
     "data": {
      "text/html": [
       "<span style=\"color:blue\"> |-num_layers: 3</span>"
      ],
      "text/plain": [
       "<IPython.core.display.HTML object>"
      ]
     },
     "metadata": {},
     "output_type": "display_data"
    },
    {
     "data": {
      "text/html": [
       "<span style=\"color:cyan\"> |-units: 100</span>"
      ],
      "text/plain": [
       "<IPython.core.display.HTML object>"
      ]
     },
     "metadata": {},
     "output_type": "display_data"
    }
   ],
   "source": [
    "tuner.results_summary()"
   ]
  },
  {
   "cell_type": "code",
   "execution_count": 13,
   "metadata": {},
   "outputs": [],
   "source": [
    "best_hp = tuner.get_best_hyperparameters()[0]"
   ]
  },
  {
   "cell_type": "code",
   "execution_count": 14,
   "metadata": {},
   "outputs": [
    {
     "data": {
      "text/plain": [
       "{'num_layers': 3, 'units': 100, 'dropout': 0.2}"
      ]
     },
     "execution_count": 14,
     "metadata": {},
     "output_type": "execute_result"
    }
   ],
   "source": [
    "best_hp.values"
   ]
  }
 ],
 "metadata": {
  "kernelspec": {
   "display_name": "Python 3",
   "language": "python",
   "name": "python3"
  },
  "language_info": {
   "codemirror_mode": {
    "name": "ipython",
    "version": 3
   },
   "file_extension": ".py",
   "mimetype": "text/x-python",
   "name": "python",
   "nbconvert_exporter": "python",
   "pygments_lexer": "ipython3",
   "version": "3.6.12"
  }
 },
 "nbformat": 4,
 "nbformat_minor": 4
}
